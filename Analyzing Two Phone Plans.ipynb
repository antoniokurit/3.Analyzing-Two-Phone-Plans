{
 "cells": [
  {
   "cell_type": "markdown",
   "metadata": {},
   "source": [
    "# Analyzing Two Phone Plans\n",
    "\n",
    "Telecom operator Megaline offers its clients two prepaid plans, Surf and Ultimate. The commercial department wants to know which of the plans brings in more revenue in order to adjust the advertising budget.\n",
    "\n",
    "We are going to carry out a preliminary analysis of the plans based on a relatively small client selection. We'll have the data on 500 Megaline clients: who the clients are, where they're from, which plan they use, and the number of calls they made and text messages they sent in 2018. We will analyze clients' behavior and determine which prepaid plan brings in more revenue since Megaline's commercial department wants to know which of the plans brings in more revenue in order to adjust the advertising budget.\n",
    "\n",
    "In this project, we will describe the customers' behavior by finding the minutes, texts, and volume of data the users of each plan require per month. We'll calculate the mean, dispersion, and standard deviation, plot histograms and describe the distributions.\n",
    "\n",
    "Additionally, we'll form two experiments that will suggest to us the following:  \n",
    "- Does the average revenue from users of Ultimate and Surf calling plans differs  \n",
    "- Does the average revenue from users in NY-NJ area is different from that of the users from other regions"
   ]
  },
  {
   "cell_type": "markdown",
   "metadata": {},
   "source": [
    "# Table of Contents\n",
    "[1 Open the data file and have a look at the general information](#1heading)  \n",
    "&emsp;[1.1 Conclusion](#1.1heading)  \n",
    "[2 Data preprocessing](#2heading)  \n",
    "&emsp;[2.1 Processing missing values](#2.1heading)  \n",
    "&emsp;[2.2 Data type replacement](#2.2heading)  \n",
    "&emsp;[2.3 Processing duplicates](#2.3heading)  \n",
    "&emsp;[2.4 Eliminating errors in data](#2.4heading)  \n",
    "&emsp;[2.5 Preparing data - getting revenue per month per user](#2.5heading)  \n",
    "[3 Analyze the data](#3heading)  \n",
    "[4 Testing hypotheses](#4heading)  \n",
    "&emsp;[4.1 The average revenue from users of Ultimate and Surf calling plans differs](#4.1heading)  \n",
    "&emsp;[4.2 The average revenue from users in NY-NJ area is different from that of the users from other regions](#4.2heading)  \n",
    "[5 Overall conclusion](#5heading)"
   ]
  },
  {
   "cell_type": "markdown",
   "metadata": {},
   "source": [
    "<a id='1heading'></a>"
   ]
  },
  {
   "cell_type": "markdown",
   "metadata": {},
   "source": [
    "## Open the data files and have a look at the general information"
   ]
  },
  {
   "cell_type": "code",
   "execution_count": 1,
   "metadata": {},
   "outputs": [],
   "source": [
    "#Importing libraries\n",
    "import pandas as pd\n",
    "import numpy as np\n",
    "import matplotlib.pyplot as plt\n",
    "import math as mt\n",
    "from math import factorial\n",
    "from scipy import stats as st\n",
    "from functools import reduce"
   ]
  },
  {
   "cell_type": "code",
   "execution_count": 2,
   "metadata": {},
   "outputs": [],
   "source": [
    "#Read files\n",
    "calls_data = pd.read_csv('/Users/AntonioKuri/Desktop/Training/Practicum/Projects/Project 3/megaline_calls.csv')\n",
    "internet_data = pd.read_csv('/Users/AntonioKuri/Desktop/Training/Practicum/Projects/Project 3/megaline_internet.csv')\n",
    "messages_data = pd.read_csv('/Users/AntonioKuri/Desktop/Training/Practicum/Projects/Project 3/megaline_messages.csv')\n",
    "plans_data = pd.read_csv('/Users/AntonioKuri/Desktop/Training/Practicum/Projects/Project 3/megaline_plans.csv')\n",
    "users_data = pd.read_csv('/Users/AntonioKuri/Desktop/Training/Practicum/Projects/Project 3/megaline_users.csv')"
   ]
  },
  {
   "cell_type": "code",
   "execution_count": 3,
   "metadata": {},
   "outputs": [
    {
     "name": "stdout",
     "output_type": "stream",
     "text": [
      "         id  user_id call_date  duration\n",
      "0   1000_93   1000.0  12/27/18      8.52\n",
      "1  1000_145   1000.0  12/27/18     13.66\n",
      "2  1000_247   1000.0  12/27/18     14.48\n",
      "3  1000_309   1000.0  12/28/18      5.76\n",
      "4  1000_380   1000.0  12/30/18      4.22\n",
      "<class 'pandas.core.frame.DataFrame'>\n",
      "RangeIndex: 137736 entries, 0 to 137735\n",
      "Data columns (total 4 columns):\n",
      " #   Column     Non-Null Count   Dtype  \n",
      "---  ------     --------------   -----  \n",
      " 0   id         137735 non-null  object \n",
      " 1   user_id    137735 non-null  float64\n",
      " 2   call_date  137735 non-null  object \n",
      " 3   duration   137736 non-null  float64\n",
      "dtypes: float64(2), object(2)\n",
      "memory usage: 4.2+ MB\n",
      "None\n",
      "------------------------------------------------------------------------------\n",
      "         id  user_id session_date  mb_used\n",
      "0   1000_13     1000     12/29/18    89.86\n",
      "1  1000_204     1000     12/31/18     0.00\n",
      "2  1000_379     1000     12/28/18   660.40\n",
      "3  1000_413     1000     12/26/18   270.99\n",
      "4  1000_442     1000     12/27/18   880.22\n",
      "<class 'pandas.core.frame.DataFrame'>\n",
      "RangeIndex: 104825 entries, 0 to 104824\n",
      "Data columns (total 4 columns):\n",
      " #   Column        Non-Null Count   Dtype  \n",
      "---  ------        --------------   -----  \n",
      " 0   id            104825 non-null  object \n",
      " 1   user_id       104825 non-null  int64  \n",
      " 2   session_date  104825 non-null  object \n",
      " 3   mb_used       104825 non-null  float64\n",
      "dtypes: float64(1), int64(1), object(2)\n",
      "memory usage: 3.2+ MB\n",
      "None\n",
      "------------------------------------------------------------------------------\n",
      "         id  user_id message_date\n",
      "0  1000_125     1000     12/27/18\n",
      "1  1000_160     1000     12/31/18\n",
      "2  1000_223     1000     12/31/18\n",
      "3  1000_251     1000     12/27/18\n",
      "4  1000_255     1000     12/26/18\n",
      "<class 'pandas.core.frame.DataFrame'>\n",
      "RangeIndex: 76051 entries, 0 to 76050\n",
      "Data columns (total 3 columns):\n",
      " #   Column        Non-Null Count  Dtype \n",
      "---  ------        --------------  ----- \n",
      " 0   id            76051 non-null  object\n",
      " 1   user_id       76051 non-null  int64 \n",
      " 2   message_date  76051 non-null  object\n",
      "dtypes: int64(1), object(2)\n",
      "memory usage: 1.7+ MB\n",
      "None\n",
      "------------------------------------------------------------------------------\n",
      "   messages_included  mb_per_month_included  minutes_included  \\\n",
      "0                 50                  15360               500   \n",
      "1               1000                  30720              3000   \n",
      "\n",
      "   usd_monthly_pay  usd_per_gb  usd_per_message  usd_per_minute plan_name  \n",
      "0               20          10             0.03            0.03      surf  \n",
      "1               70           7             0.01            0.01  ultimate  \n",
      "<class 'pandas.core.frame.DataFrame'>\n",
      "RangeIndex: 2 entries, 0 to 1\n",
      "Data columns (total 8 columns):\n",
      " #   Column                 Non-Null Count  Dtype  \n",
      "---  ------                 --------------  -----  \n",
      " 0   messages_included      2 non-null      int64  \n",
      " 1   mb_per_month_included  2 non-null      int64  \n",
      " 2   minutes_included       2 non-null      int64  \n",
      " 3   usd_monthly_pay        2 non-null      int64  \n",
      " 4   usd_per_gb             2 non-null      int64  \n",
      " 5   usd_per_message        2 non-null      float64\n",
      " 6   usd_per_minute         2 non-null      float64\n",
      " 7   plan_name              2 non-null      object \n",
      "dtypes: float64(2), int64(5), object(1)\n",
      "memory usage: 256.0+ bytes\n",
      "None\n",
      "------------------------------------------------------------------------------\n",
      "   user_id first_name  last_name  age                                   city  \\\n",
      "0     1000   Anamaria      Bauer   45  Atlanta-Sandy Springs-Roswell, GA MSA   \n",
      "1     1001     Mickey  Wilkerson   28        Seattle-Tacoma-Bellevue, WA MSA   \n",
      "2     1002     Carlee    Hoffman   36   Las Vegas-Henderson-Paradise, NV MSA   \n",
      "3     1003   Reynaldo    Jenkins   52                          Tulsa, OK MSA   \n",
      "4     1004    Leonila   Thompson   40        Seattle-Tacoma-Bellevue, WA MSA   \n",
      "\n",
      "   reg_date      plan churn_date  \n",
      "0  12/24/18  ultimate        NaN  \n",
      "1   8/13/18      surf        NaN  \n",
      "2  10/21/18      surf        NaN  \n",
      "3   1/28/18      surf        NaN  \n",
      "4   5/23/18      surf        NaN  \n",
      "<class 'pandas.core.frame.DataFrame'>\n",
      "RangeIndex: 500 entries, 0 to 499\n",
      "Data columns (total 8 columns):\n",
      " #   Column      Non-Null Count  Dtype \n",
      "---  ------      --------------  ----- \n",
      " 0   user_id     500 non-null    int64 \n",
      " 1   first_name  500 non-null    object\n",
      " 2   last_name   500 non-null    object\n",
      " 3   age         500 non-null    int64 \n",
      " 4   city        500 non-null    object\n",
      " 5   reg_date    500 non-null    object\n",
      " 6   plan        500 non-null    object\n",
      " 7   churn_date  34 non-null     object\n",
      "dtypes: int64(2), object(6)\n",
      "memory usage: 31.4+ KB\n",
      "None\n"
     ]
    }
   ],
   "source": [
    "#Check files' first five rows and the data info\n",
    "print(calls_data.head())\n",
    "print(calls_data.info())\n",
    "print('------------------------------------------------------------------------------')\n",
    "print(internet_data.head())\n",
    "print(internet_data.info())\n",
    "print('------------------------------------------------------------------------------')\n",
    "print(messages_data.head())\n",
    "print(messages_data.info())\n",
    "print('------------------------------------------------------------------------------')\n",
    "print(plans_data.head())\n",
    "print(plans_data.info())\n",
    "print('------------------------------------------------------------------------------')\n",
    "print(users_data.head())\n",
    "print(users_data.info())"
   ]
  },
  {
   "cell_type": "markdown",
   "metadata": {},
   "source": [
    "<a id='1.1heading'></a>"
   ]
  },
  {
   "cell_type": "markdown",
   "metadata": {},
   "source": [
    "### Conclusion"
   ]
  },
  {
   "cell_type": "markdown",
   "metadata": {},
   "source": [
    "1. Calls_data: contains columns (1)id, (2)user_id, (3)call_date, (4)duration with 137735 rows\n",
    "\n",
    "\n",
    "2. Internet_data: contains columns (1)id, (2)user_id, (3)session_date, (4)mb_used with 104825 rows\n",
    "\n",
    "\n",
    "3. Messages_data: contains columns (1)id, (2)user_id, (3)message_date with 76051 rows\n",
    "\n",
    "\n",
    "4. Plans_data: contains columns (1)messages_included, (2)mb_per_month_included, (3)minutes_included, (4)usd_monthly_pay, (5)usd_per_gb, (6)usd_per_message, (7)usd_per_minute, (8)plan_name with 2 rows\n",
    "\n",
    "\n",
    "5. Users_data: contains columns (1)user_id, (2)first_name, (3)last_name, (4)age, (5)city, (6)reg_date, (7)plan, (8)churn_date with 500 rows\n",
    "\n",
    "Note: Some data types are not appropriate for the columns - will change in preprocessing stage."
   ]
  },
  {
   "cell_type": "markdown",
   "metadata": {},
   "source": [
    "<a id='2heading'></a>"
   ]
  },
  {
   "cell_type": "markdown",
   "metadata": {},
   "source": [
    "## Data preprocessing"
   ]
  },
  {
   "cell_type": "markdown",
   "metadata": {},
   "source": [
    "<a id='2.1heading'></a>"
   ]
  },
  {
   "cell_type": "markdown",
   "metadata": {},
   "source": [
    "### Processing missing values"
   ]
  },
  {
   "cell_type": "code",
   "execution_count": 4,
   "metadata": {},
   "outputs": [
    {
     "name": "stdout",
     "output_type": "stream",
     "text": [
      "id           1\n",
      "user_id      1\n",
      "call_date    1\n",
      "duration     0\n",
      "dtype: int64\n",
      "id              0\n",
      "user_id         0\n",
      "session_date    0\n",
      "mb_used         0\n",
      "dtype: int64\n",
      "id              0\n",
      "user_id         0\n",
      "message_date    0\n",
      "dtype: int64\n",
      "messages_included        0\n",
      "mb_per_month_included    0\n",
      "minutes_included         0\n",
      "usd_monthly_pay          0\n",
      "usd_per_gb               0\n",
      "usd_per_message          0\n",
      "usd_per_minute           0\n",
      "plan_name                0\n",
      "dtype: int64\n",
      "user_id         0\n",
      "first_name      0\n",
      "last_name       0\n",
      "age             0\n",
      "city            0\n",
      "reg_date        0\n",
      "plan            0\n",
      "churn_date    466\n",
      "dtype: int64\n"
     ]
    }
   ],
   "source": [
    "#Searching for nulls in data\n",
    "print(calls_data.isnull().sum())\n",
    "print(internet_data.isnull().sum())\n",
    "print(messages_data.isnull().sum())\n",
    "print(plans_data.isnull().sum())\n",
    "print(users_data.isnull().sum())"
   ]
  },
  {
   "cell_type": "markdown",
   "metadata": {},
   "source": [
    "Churn_date under Users_data is the only column with nulls. This is expected and fine as not all users ended their subscription with Megaline."
   ]
  },
  {
   "cell_type": "markdown",
   "metadata": {},
   "source": [
    "<a id='2.2heading'></a>"
   ]
  },
  {
   "cell_type": "markdown",
   "metadata": {},
   "source": [
    "### Data type replacement"
   ]
  },
  {
   "cell_type": "code",
   "execution_count": 5,
   "metadata": {},
   "outputs": [
    {
     "data": {
      "text/plain": [
       "id            object\n",
       "user_id      float64\n",
       "call_date     object\n",
       "duration     float64\n",
       "dtype: object"
      ]
     },
     "execution_count": 5,
     "metadata": {},
     "output_type": "execute_result"
    }
   ],
   "source": [
    "#Check calls_data data types\n",
    "calls_data.dtypes"
   ]
  },
  {
   "cell_type": "code",
   "execution_count": 6,
   "metadata": {},
   "outputs": [],
   "source": [
    "#Minutes rounded up, as one second above 1 minute costs as 2 minutes to the user\n",
    "calls_data['duration'] = calls_data['duration'].apply(np.ceil)"
   ]
  },
  {
   "cell_type": "code",
   "execution_count": 7,
   "metadata": {},
   "outputs": [],
   "source": [
    "#Replaceing data type for calls_data file\n",
    "calls_data['call_date'] = pd.to_datetime(calls_data['call_date'])\n",
    "calls_data['duration'] = calls_data['duration'].astype(int)"
   ]
  },
  {
   "cell_type": "code",
   "execution_count": 8,
   "metadata": {},
   "outputs": [
    {
     "data": {
      "text/plain": [
       "id                   object\n",
       "user_id             float64\n",
       "call_date    datetime64[ns]\n",
       "duration              int64\n",
       "dtype: object"
      ]
     },
     "execution_count": 8,
     "metadata": {},
     "output_type": "execute_result"
    }
   ],
   "source": [
    "#Recheck calls_data data types\n",
    "calls_data.dtypes"
   ]
  },
  {
   "cell_type": "markdown",
   "metadata": {},
   "source": [
    "---"
   ]
  },
  {
   "cell_type": "code",
   "execution_count": 9,
   "metadata": {},
   "outputs": [
    {
     "data": {
      "text/plain": [
       "id               object\n",
       "user_id           int64\n",
       "session_date     object\n",
       "mb_used         float64\n",
       "dtype: object"
      ]
     },
     "execution_count": 9,
     "metadata": {},
     "output_type": "execute_result"
    }
   ],
   "source": [
    "#Check internet_data data types\n",
    "internet_data.dtypes"
   ]
  },
  {
   "cell_type": "code",
   "execution_count": 10,
   "metadata": {},
   "outputs": [],
   "source": [
    "#Replaceing data type for internet_data file\n",
    "internet_data['session_date'] = pd.to_datetime(internet_data['session_date'])\n",
    "internet_data['mb_used'] = internet_data['mb_used'].astype(int)"
   ]
  },
  {
   "cell_type": "code",
   "execution_count": 11,
   "metadata": {},
   "outputs": [
    {
     "data": {
      "text/plain": [
       "id                      object\n",
       "user_id                  int64\n",
       "session_date    datetime64[ns]\n",
       "mb_used                  int64\n",
       "dtype: object"
      ]
     },
     "execution_count": 11,
     "metadata": {},
     "output_type": "execute_result"
    }
   ],
   "source": [
    "#Recheck internet_data data types\n",
    "internet_data.dtypes"
   ]
  },
  {
   "cell_type": "markdown",
   "metadata": {},
   "source": [
    "---"
   ]
  },
  {
   "cell_type": "code",
   "execution_count": 12,
   "metadata": {},
   "outputs": [
    {
     "data": {
      "text/plain": [
       "id              object\n",
       "user_id          int64\n",
       "message_date    object\n",
       "dtype: object"
      ]
     },
     "execution_count": 12,
     "metadata": {},
     "output_type": "execute_result"
    }
   ],
   "source": [
    "#Check messages_data data types\n",
    "messages_data.dtypes"
   ]
  },
  {
   "cell_type": "code",
   "execution_count": 13,
   "metadata": {},
   "outputs": [],
   "source": [
    "#Replaceing data type for messages_data file\n",
    "messages_data['message_date'] = pd.to_datetime(messages_data['message_date'])"
   ]
  },
  {
   "cell_type": "code",
   "execution_count": 14,
   "metadata": {},
   "outputs": [
    {
     "data": {
      "text/plain": [
       "id                      object\n",
       "user_id                  int64\n",
       "message_date    datetime64[ns]\n",
       "dtype: object"
      ]
     },
     "execution_count": 14,
     "metadata": {},
     "output_type": "execute_result"
    }
   ],
   "source": [
    "#Recheck messages_data data types\n",
    "messages_data.dtypes"
   ]
  },
  {
   "cell_type": "markdown",
   "metadata": {},
   "source": [
    "---"
   ]
  },
  {
   "cell_type": "code",
   "execution_count": 15,
   "metadata": {},
   "outputs": [
    {
     "data": {
      "text/plain": [
       "messages_included          int64\n",
       "mb_per_month_included      int64\n",
       "minutes_included           int64\n",
       "usd_monthly_pay            int64\n",
       "usd_per_gb                 int64\n",
       "usd_per_message          float64\n",
       "usd_per_minute           float64\n",
       "plan_name                 object\n",
       "dtype: object"
      ]
     },
     "execution_count": 15,
     "metadata": {},
     "output_type": "execute_result"
    }
   ],
   "source": [
    "#Check plans_data data types\n",
    "plans_data.dtypes"
   ]
  },
  {
   "cell_type": "markdown",
   "metadata": {},
   "source": [
    "Note: plans_data data types are fine"
   ]
  },
  {
   "cell_type": "markdown",
   "metadata": {},
   "source": [
    "---"
   ]
  },
  {
   "cell_type": "code",
   "execution_count": 16,
   "metadata": {},
   "outputs": [
    {
     "data": {
      "text/plain": [
       "user_id        int64\n",
       "first_name    object\n",
       "last_name     object\n",
       "age            int64\n",
       "city          object\n",
       "reg_date      object\n",
       "plan          object\n",
       "churn_date    object\n",
       "dtype: object"
      ]
     },
     "execution_count": 16,
     "metadata": {},
     "output_type": "execute_result"
    }
   ],
   "source": [
    "#Check users_data data types\n",
    "users_data.dtypes"
   ]
  },
  {
   "cell_type": "code",
   "execution_count": 17,
   "metadata": {},
   "outputs": [],
   "source": [
    "#Replaceing data type for users_data file\n",
    "users_data['reg_date'] = pd.to_datetime(users_data['reg_date'])\n",
    "users_data['churn_date'] = pd.to_datetime(users_data['churn_date'])"
   ]
  },
  {
   "cell_type": "code",
   "execution_count": 18,
   "metadata": {},
   "outputs": [
    {
     "data": {
      "text/plain": [
       "user_id                int64\n",
       "first_name            object\n",
       "last_name             object\n",
       "age                    int64\n",
       "city                  object\n",
       "reg_date      datetime64[ns]\n",
       "plan                  object\n",
       "churn_date    datetime64[ns]\n",
       "dtype: object"
      ]
     },
     "execution_count": 18,
     "metadata": {},
     "output_type": "execute_result"
    }
   ],
   "source": [
    "#Recheck users_data data types\n",
    "users_data.dtypes"
   ]
  },
  {
   "cell_type": "markdown",
   "metadata": {},
   "source": [
    "Our dataframes now have the correct data types."
   ]
  },
  {
   "cell_type": "markdown",
   "metadata": {},
   "source": [
    "<a id='2.3heading'></a>"
   ]
  },
  {
   "cell_type": "markdown",
   "metadata": {},
   "source": [
    "### Processing duplicates"
   ]
  },
  {
   "cell_type": "code",
   "execution_count": 19,
   "metadata": {},
   "outputs": [
    {
     "name": "stdout",
     "output_type": "stream",
     "text": [
      "Total duplicates: 0\n"
     ]
    }
   ],
   "source": [
    "#Count total duplicates for calls_data\n",
    "print('Total duplicates:', calls_data.duplicated().sum())"
   ]
  },
  {
   "cell_type": "code",
   "execution_count": 20,
   "metadata": {},
   "outputs": [
    {
     "name": "stdout",
     "output_type": "stream",
     "text": [
      "Total duplicates: 0\n"
     ]
    }
   ],
   "source": [
    "#Count total duplicates internet_data\n",
    "print('Total duplicates:', internet_data.duplicated().sum())"
   ]
  },
  {
   "cell_type": "code",
   "execution_count": 21,
   "metadata": {},
   "outputs": [
    {
     "name": "stdout",
     "output_type": "stream",
     "text": [
      "Total duplicates: 0\n"
     ]
    }
   ],
   "source": [
    "#Count total duplicates messages_data\n",
    "print('Total duplicates:', messages_data.duplicated().sum())"
   ]
  },
  {
   "cell_type": "code",
   "execution_count": 22,
   "metadata": {},
   "outputs": [
    {
     "name": "stdout",
     "output_type": "stream",
     "text": [
      "Total duplicates: 0\n"
     ]
    }
   ],
   "source": [
    "#Count total duplicates users_data\n",
    "print('Total duplicates:', users_data.duplicated().sum())"
   ]
  },
  {
   "cell_type": "markdown",
   "metadata": {},
   "source": [
    "Note: plans_data only has 2 rows, so we didn't check for duplicates."
   ]
  },
  {
   "cell_type": "markdown",
   "metadata": {},
   "source": [
    "<div class=\"alert alert-success\" role=\"alert\">\n",
    "<b>Reviewer's comment v1:</b>\n",
    "    \n",
    "Well done! \n",
    "</div>"
   ]
  },
  {
   "cell_type": "markdown",
   "metadata": {},
   "source": [
    "<a id='2.4heading'></a>"
   ]
  },
  {
   "cell_type": "markdown",
   "metadata": {},
   "source": [
    "### Eliminating errors in data"
   ]
  },
  {
   "cell_type": "code",
   "execution_count": 23,
   "metadata": {},
   "outputs": [
    {
     "name": "stdout",
     "output_type": "stream",
     "text": [
      "Total rows with 0 minutes: 26834\n",
      "Total rows: 137736\n",
      "Proportion of rows with 0 minutes to all calls: 0.1948219782772841\n"
     ]
    }
   ],
   "source": [
    "#Calls made with 0 minutes - they're probably missed calls\n",
    "calls_data_zero_min = calls_data.query('duration == 0')\n",
    "print('Total rows with 0 minutes:', len(calls_data_zero_min))\n",
    "print('Total rows:', len(calls_data))\n",
    "print('Proportion of rows with 0 minutes to all calls:', len(calls_data_zero_min)/len(calls_data))"
   ]
  },
  {
   "cell_type": "markdown",
   "metadata": {},
   "source": [
    "20% of calls were missed calls. We need to delete them because they don't count as consumed minutes by the customers. This will not affect our analysis."
   ]
  },
  {
   "cell_type": "code",
   "execution_count": 24,
   "metadata": {},
   "outputs": [
    {
     "name": "stdout",
     "output_type": "stream",
     "text": [
      "Total rows: 110902\n"
     ]
    }
   ],
   "source": [
    "#Deleting rows with 0 minutes and confirming deletion\n",
    "calls_data = calls_data.query('duration != 0')\n",
    "print('Total rows:', len(calls_data))"
   ]
  },
  {
   "cell_type": "code",
   "execution_count": 25,
   "metadata": {},
   "outputs": [
    {
     "name": "stdout",
     "output_type": "stream",
     "text": [
      "Total rows with 0 mb_used: 13829\n",
      "Total rows: 104825\n",
      "Proportion of rows with 0 minutes to all calls: 0.13192463629859288\n"
     ]
    }
   ],
   "source": [
    "#mb_used made with value 0 - this could be days in which users turned internet data on and off instantaneously\n",
    "internet_data_zero_min = internet_data.query('mb_used == 0')\n",
    "print('Total rows with 0 mb_used:', len(internet_data_zero_min))\n",
    "print('Total rows:', len(internet_data))\n",
    "print('Proportion of rows with 0 minutes to all calls:', len(internet_data_zero_min)/len(internet_data))"
   ]
  },
  {
   "cell_type": "markdown",
   "metadata": {},
   "source": [
    "13% of entries of internet_data have value 0 for mb_used. We need to delete them because they don't count as consumed mb by the customers. This will not affect our analysis."
   ]
  },
  {
   "cell_type": "code",
   "execution_count": 26,
   "metadata": {},
   "outputs": [
    {
     "name": "stdout",
     "output_type": "stream",
     "text": [
      "Total rows: 90996\n"
     ]
    }
   ],
   "source": [
    "#Deleting rows with 0 mb_used and confirming deletion\n",
    "internet_data = internet_data.query('mb_used != 0')\n",
    "print('Total rows:', len(internet_data))"
   ]
  },
  {
   "cell_type": "markdown",
   "metadata": {},
   "source": [
    "<a id='2.5heading'></a>"
   ]
  },
  {
   "cell_type": "markdown",
   "metadata": {},
   "source": [
    "### Preparing data - getting revenue per month per user"
   ]
  },
  {
   "cell_type": "markdown",
   "metadata": {},
   "source": [
    "In this step, we will get the revenue per month per user. We'll do this by itemizing every user's monthly consumption of minutes, messages and internet. We'll subtract by the plan's included amount of minutes, messages and internet. Then we'll multiply the overused minutes, messages and internet by the rates of over consumption and finally add the plan's monthly price. With this process, we'll arrive at the monthly revenue per user per month."
   ]
  },
  {
   "cell_type": "code",
   "execution_count": 27,
   "metadata": {},
   "outputs": [],
   "source": [
    "#In calls_data, adding column stating the month calls were made\n",
    "calls_data['month'] = calls_data['call_date'].dt.month"
   ]
  },
  {
   "cell_type": "code",
   "execution_count": 28,
   "metadata": {},
   "outputs": [
    {
     "data": {
      "text/html": [
       "<div>\n",
       "<style scoped>\n",
       "    .dataframe tbody tr th:only-of-type {\n",
       "        vertical-align: middle;\n",
       "    }\n",
       "\n",
       "    .dataframe tbody tr th {\n",
       "        vertical-align: top;\n",
       "    }\n",
       "\n",
       "    .dataframe thead tr th {\n",
       "        text-align: left;\n",
       "    }\n",
       "\n",
       "    .dataframe thead tr:last-of-type th {\n",
       "        text-align: right;\n",
       "    }\n",
       "</style>\n",
       "<table border=\"1\" class=\"dataframe\">\n",
       "  <thead>\n",
       "    <tr>\n",
       "      <th></th>\n",
       "      <th></th>\n",
       "      <th>count</th>\n",
       "      <th>sum</th>\n",
       "    </tr>\n",
       "    <tr>\n",
       "      <th></th>\n",
       "      <th></th>\n",
       "      <th>duration</th>\n",
       "      <th>duration</th>\n",
       "    </tr>\n",
       "    <tr>\n",
       "      <th>user_id</th>\n",
       "      <th>month</th>\n",
       "      <th></th>\n",
       "      <th></th>\n",
       "    </tr>\n",
       "  </thead>\n",
       "  <tbody>\n",
       "    <tr>\n",
       "      <th>1000.0</th>\n",
       "      <th>12.0</th>\n",
       "      <td>16</td>\n",
       "      <td>124</td>\n",
       "    </tr>\n",
       "    <tr>\n",
       "      <th rowspan=\"4\" valign=\"top\">1001.0</th>\n",
       "      <th>8.0</th>\n",
       "      <td>22</td>\n",
       "      <td>182</td>\n",
       "    </tr>\n",
       "    <tr>\n",
       "      <th>9.0</th>\n",
       "      <td>38</td>\n",
       "      <td>315</td>\n",
       "    </tr>\n",
       "    <tr>\n",
       "      <th>10.0</th>\n",
       "      <td>47</td>\n",
       "      <td>393</td>\n",
       "    </tr>\n",
       "    <tr>\n",
       "      <th>11.0</th>\n",
       "      <td>49</td>\n",
       "      <td>426</td>\n",
       "    </tr>\n",
       "  </tbody>\n",
       "</table>\n",
       "</div>"
      ],
      "text/plain": [
       "                 count      sum\n",
       "              duration duration\n",
       "user_id month                  \n",
       "1000.0  12.0        16      124\n",
       "1001.0  8.0         22      182\n",
       "        9.0         38      315\n",
       "        10.0        47      393\n",
       "        11.0        49      426"
      ]
     },
     "execution_count": 28,
     "metadata": {},
     "output_type": "execute_result"
    }
   ],
   "source": [
    "#For each user, finding the number of calls made and minutes used per month\n",
    "calls_data_revenue = calls_data.pivot_table(index=['user_id', 'month'], values='duration', aggfunc=['count', 'sum'])\n",
    "calls_data_revenue.head()"
   ]
  },
  {
   "cell_type": "code",
   "execution_count": 29,
   "metadata": {},
   "outputs": [
    {
     "name": "stdout",
     "output_type": "stream",
     "text": [
      "<class 'pandas.core.frame.DataFrame'>\n",
      "MultiIndex: 2256 entries, (1000.0, 12.0) to (1499.0, 12.0)\n",
      "Data columns (total 2 columns):\n",
      " #   Column             Non-Null Count  Dtype\n",
      "---  ------             --------------  -----\n",
      " 0   (count, duration)  2256 non-null   int64\n",
      " 1   (sum, duration)    2256 non-null   int64\n",
      "dtypes: int64(2)\n",
      "memory usage: 45.8 KB\n"
     ]
    }
   ],
   "source": [
    "calls_data_revenue.info()"
   ]
  },
  {
   "cell_type": "code",
   "execution_count": 30,
   "metadata": {},
   "outputs": [],
   "source": [
    "#In messages_data, adding column stating the month messages were sent\n",
    "messages_data['month'] = messages_data['message_date'].dt.month"
   ]
  },
  {
   "cell_type": "code",
   "execution_count": 31,
   "metadata": {},
   "outputs": [
    {
     "data": {
      "text/html": [
       "<div>\n",
       "<style scoped>\n",
       "    .dataframe tbody tr th:only-of-type {\n",
       "        vertical-align: middle;\n",
       "    }\n",
       "\n",
       "    .dataframe tbody tr th {\n",
       "        vertical-align: top;\n",
       "    }\n",
       "\n",
       "    .dataframe thead tr th {\n",
       "        text-align: left;\n",
       "    }\n",
       "\n",
       "    .dataframe thead tr:last-of-type th {\n",
       "        text-align: right;\n",
       "    }\n",
       "</style>\n",
       "<table border=\"1\" class=\"dataframe\">\n",
       "  <thead>\n",
       "    <tr>\n",
       "      <th></th>\n",
       "      <th></th>\n",
       "      <th>count</th>\n",
       "    </tr>\n",
       "    <tr>\n",
       "      <th></th>\n",
       "      <th></th>\n",
       "      <th>id</th>\n",
       "    </tr>\n",
       "    <tr>\n",
       "      <th>user_id</th>\n",
       "      <th>month</th>\n",
       "      <th></th>\n",
       "    </tr>\n",
       "  </thead>\n",
       "  <tbody>\n",
       "    <tr>\n",
       "      <th>1000</th>\n",
       "      <th>12</th>\n",
       "      <td>11</td>\n",
       "    </tr>\n",
       "    <tr>\n",
       "      <th rowspan=\"4\" valign=\"top\">1001</th>\n",
       "      <th>8</th>\n",
       "      <td>30</td>\n",
       "    </tr>\n",
       "    <tr>\n",
       "      <th>9</th>\n",
       "      <td>44</td>\n",
       "    </tr>\n",
       "    <tr>\n",
       "      <th>10</th>\n",
       "      <td>53</td>\n",
       "    </tr>\n",
       "    <tr>\n",
       "      <th>11</th>\n",
       "      <td>36</td>\n",
       "    </tr>\n",
       "  </tbody>\n",
       "</table>\n",
       "</div>"
      ],
      "text/plain": [
       "              count\n",
       "                 id\n",
       "user_id month      \n",
       "1000    12       11\n",
       "1001    8        30\n",
       "        9        44\n",
       "        10       53\n",
       "        11       36"
      ]
     },
     "execution_count": 31,
     "metadata": {},
     "output_type": "execute_result"
    }
   ],
   "source": [
    "#For each user, finding the number of text messages sent per month\n",
    "messages_data_revenue = messages_data.pivot_table(index=['user_id', 'month'], values='id' , aggfunc=['count'])\n",
    "messages_data_revenue.head()"
   ]
  },
  {
   "cell_type": "code",
   "execution_count": 32,
   "metadata": {},
   "outputs": [
    {
     "name": "stdout",
     "output_type": "stream",
     "text": [
      "<class 'pandas.core.frame.DataFrame'>\n",
      "MultiIndex: 1806 entries, (1000, 12) to (1497, 12)\n",
      "Data columns (total 1 columns):\n",
      " #   Column       Non-Null Count  Dtype\n",
      "---  ------       --------------  -----\n",
      " 0   (count, id)  1806 non-null   int64\n",
      "dtypes: int64(1)\n",
      "memory usage: 22.7 KB\n"
     ]
    }
   ],
   "source": [
    "messages_data_revenue.info()"
   ]
  },
  {
   "cell_type": "code",
   "execution_count": 33,
   "metadata": {},
   "outputs": [],
   "source": [
    "#In internet_data, adding column stating month internet sessions were made\n",
    "internet_data['month'] = internet_data['session_date'].dt.month"
   ]
  },
  {
   "cell_type": "code",
   "execution_count": 34,
   "metadata": {},
   "outputs": [
    {
     "data": {
      "text/html": [
       "<div>\n",
       "<style scoped>\n",
       "    .dataframe tbody tr th:only-of-type {\n",
       "        vertical-align: middle;\n",
       "    }\n",
       "\n",
       "    .dataframe tbody tr th {\n",
       "        vertical-align: top;\n",
       "    }\n",
       "\n",
       "    .dataframe thead tr th {\n",
       "        text-align: left;\n",
       "    }\n",
       "\n",
       "    .dataframe thead tr:last-of-type th {\n",
       "        text-align: right;\n",
       "    }\n",
       "</style>\n",
       "<table border=\"1\" class=\"dataframe\">\n",
       "  <thead>\n",
       "    <tr>\n",
       "      <th></th>\n",
       "      <th></th>\n",
       "      <th>sum</th>\n",
       "    </tr>\n",
       "    <tr>\n",
       "      <th></th>\n",
       "      <th></th>\n",
       "      <th>mb_used</th>\n",
       "    </tr>\n",
       "    <tr>\n",
       "      <th>user_id</th>\n",
       "      <th>month</th>\n",
       "      <th></th>\n",
       "    </tr>\n",
       "  </thead>\n",
       "  <tbody>\n",
       "    <tr>\n",
       "      <th>1000</th>\n",
       "      <th>12</th>\n",
       "      <td>1899</td>\n",
       "    </tr>\n",
       "    <tr>\n",
       "      <th rowspan=\"4\" valign=\"top\">1001</th>\n",
       "      <th>8</th>\n",
       "      <td>6908</td>\n",
       "    </tr>\n",
       "    <tr>\n",
       "      <th>9</th>\n",
       "      <td>13294</td>\n",
       "    </tr>\n",
       "    <tr>\n",
       "      <th>10</th>\n",
       "      <td>22308</td>\n",
       "    </tr>\n",
       "    <tr>\n",
       "      <th>11</th>\n",
       "      <td>18477</td>\n",
       "    </tr>\n",
       "  </tbody>\n",
       "</table>\n",
       "</div>"
      ],
      "text/plain": [
       "                  sum\n",
       "              mb_used\n",
       "user_id month        \n",
       "1000    12       1899\n",
       "1001    8        6908\n",
       "        9       13294\n",
       "        10      22308\n",
       "        11      18477"
      ]
     },
     "execution_count": 34,
     "metadata": {},
     "output_type": "execute_result"
    }
   ],
   "source": [
    "#For each user, finding the volume of data per month\n",
    "internet_data_revenue = internet_data.pivot_table(index=['user_id', 'month'], values='mb_used', aggfunc=['sum'])\n",
    "internet_data_revenue.head()"
   ]
  },
  {
   "cell_type": "code",
   "execution_count": 35,
   "metadata": {},
   "outputs": [
    {
     "name": "stdout",
     "output_type": "stream",
     "text": [
      "<class 'pandas.core.frame.DataFrame'>\n",
      "MultiIndex: 2277 entries, (1000, 12) to (1499, 12)\n",
      "Data columns (total 1 columns):\n",
      " #   Column          Non-Null Count  Dtype\n",
      "---  ------          --------------  -----\n",
      " 0   (sum, mb_used)  2277 non-null   int64\n",
      "dtypes: int64(1)\n",
      "memory usage: 28.5 KB\n"
     ]
    }
   ],
   "source": [
    "internet_data_revenue.info()"
   ]
  },
  {
   "cell_type": "code",
   "execution_count": 36,
   "metadata": {},
   "outputs": [
    {
     "name": "stdout",
     "output_type": "stream",
     "text": [
      "<class 'pandas.core.frame.DataFrame'>\n",
      "MultiIndex: 2293 entries, (1000.0, 12.0) to (1311.0, 6.0)\n",
      "Data columns (total 4 columns):\n",
      " #   Column             Non-Null Count  Dtype  \n",
      "---  ------             --------------  -----  \n",
      " 0   (count, duration)  2256 non-null   float64\n",
      " 1   (sum, duration)    2256 non-null   float64\n",
      " 2   (count, id)        1806 non-null   float64\n",
      " 3   (sum, mb_used)     2277 non-null   float64\n",
      "dtypes: float64(4)\n",
      "memory usage: 102.7 KB\n"
     ]
    },
    {
     "data": {
      "text/html": [
       "<div>\n",
       "<style scoped>\n",
       "    .dataframe tbody tr th:only-of-type {\n",
       "        vertical-align: middle;\n",
       "    }\n",
       "\n",
       "    .dataframe tbody tr th {\n",
       "        vertical-align: top;\n",
       "    }\n",
       "\n",
       "    .dataframe thead tr th {\n",
       "        text-align: left;\n",
       "    }\n",
       "\n",
       "    .dataframe thead tr:last-of-type th {\n",
       "        text-align: right;\n",
       "    }\n",
       "</style>\n",
       "<table border=\"1\" class=\"dataframe\">\n",
       "  <thead>\n",
       "    <tr>\n",
       "      <th></th>\n",
       "      <th></th>\n",
       "      <th>count</th>\n",
       "      <th>sum</th>\n",
       "      <th>count</th>\n",
       "      <th>sum</th>\n",
       "    </tr>\n",
       "    <tr>\n",
       "      <th></th>\n",
       "      <th></th>\n",
       "      <th>duration</th>\n",
       "      <th>duration</th>\n",
       "      <th>id</th>\n",
       "      <th>mb_used</th>\n",
       "    </tr>\n",
       "    <tr>\n",
       "      <th>user_id</th>\n",
       "      <th>month</th>\n",
       "      <th></th>\n",
       "      <th></th>\n",
       "      <th></th>\n",
       "      <th></th>\n",
       "    </tr>\n",
       "  </thead>\n",
       "  <tbody>\n",
       "    <tr>\n",
       "      <th>1407.0</th>\n",
       "      <th>11.0</th>\n",
       "      <td>NaN</td>\n",
       "      <td>NaN</td>\n",
       "      <td>1.0</td>\n",
       "      <td>290.0</td>\n",
       "    </tr>\n",
       "    <tr>\n",
       "      <th>1482.0</th>\n",
       "      <th>10.0</th>\n",
       "      <td>NaN</td>\n",
       "      <td>NaN</td>\n",
       "      <td>2.0</td>\n",
       "      <td>NaN</td>\n",
       "    </tr>\n",
       "    <tr>\n",
       "      <th>1094.0</th>\n",
       "      <th>10.0</th>\n",
       "      <td>NaN</td>\n",
       "      <td>NaN</td>\n",
       "      <td>NaN</td>\n",
       "      <td>1727.0</td>\n",
       "    </tr>\n",
       "    <tr>\n",
       "      <th>1108.0</th>\n",
       "      <th>12.0</th>\n",
       "      <td>NaN</td>\n",
       "      <td>NaN</td>\n",
       "      <td>NaN</td>\n",
       "      <td>233.0</td>\n",
       "    </tr>\n",
       "    <tr>\n",
       "      <th>1311.0</th>\n",
       "      <th>6.0</th>\n",
       "      <td>NaN</td>\n",
       "      <td>NaN</td>\n",
       "      <td>NaN</td>\n",
       "      <td>1494.0</td>\n",
       "    </tr>\n",
       "  </tbody>\n",
       "</table>\n",
       "</div>"
      ],
      "text/plain": [
       "                 count      sum count     sum\n",
       "              duration duration    id mb_used\n",
       "user_id month                                \n",
       "1407.0  11.0       NaN      NaN   1.0   290.0\n",
       "1482.0  10.0       NaN      NaN   2.0     NaN\n",
       "1094.0  10.0       NaN      NaN   NaN  1727.0\n",
       "1108.0  12.0       NaN      NaN   NaN   233.0\n",
       "1311.0  6.0        NaN      NaN   NaN  1494.0"
      ]
     },
     "execution_count": 36,
     "metadata": {},
     "output_type": "execute_result"
    }
   ],
   "source": [
    "#Merge three tables to find common overlapping user_ids with month\n",
    "data_frames = [calls_data_revenue, messages_data_revenue, internet_data_revenue]\n",
    "overall_revenue = reduce(lambda  left,right: pd.merge(left,right,on=['user_id', 'month'],\n",
    "                                            how='outer'), data_frames)\n",
    "overall_revenue.info()\n",
    "overall_revenue.tail()"
   ]
  },
  {
   "cell_type": "code",
   "execution_count": 37,
   "metadata": {},
   "outputs": [
    {
     "data": {
      "text/html": [
       "<div>\n",
       "<style scoped>\n",
       "    .dataframe tbody tr th:only-of-type {\n",
       "        vertical-align: middle;\n",
       "    }\n",
       "\n",
       "    .dataframe tbody tr th {\n",
       "        vertical-align: top;\n",
       "    }\n",
       "\n",
       "    .dataframe thead th {\n",
       "        text-align: right;\n",
       "    }\n",
       "</style>\n",
       "<table border=\"1\" class=\"dataframe\">\n",
       "  <thead>\n",
       "    <tr style=\"text-align: right;\">\n",
       "      <th></th>\n",
       "      <th></th>\n",
       "      <th>calls_made</th>\n",
       "      <th>minutes_used</th>\n",
       "      <th>messages_sent</th>\n",
       "      <th>mb_used</th>\n",
       "    </tr>\n",
       "    <tr>\n",
       "      <th>user_id</th>\n",
       "      <th>month</th>\n",
       "      <th></th>\n",
       "      <th></th>\n",
       "      <th></th>\n",
       "      <th></th>\n",
       "    </tr>\n",
       "  </thead>\n",
       "  <tbody>\n",
       "    <tr>\n",
       "      <th>1407.0</th>\n",
       "      <th>11.0</th>\n",
       "      <td>NaN</td>\n",
       "      <td>NaN</td>\n",
       "      <td>1.0</td>\n",
       "      <td>290.0</td>\n",
       "    </tr>\n",
       "    <tr>\n",
       "      <th>1482.0</th>\n",
       "      <th>10.0</th>\n",
       "      <td>NaN</td>\n",
       "      <td>NaN</td>\n",
       "      <td>2.0</td>\n",
       "      <td>NaN</td>\n",
       "    </tr>\n",
       "    <tr>\n",
       "      <th>1094.0</th>\n",
       "      <th>10.0</th>\n",
       "      <td>NaN</td>\n",
       "      <td>NaN</td>\n",
       "      <td>NaN</td>\n",
       "      <td>1727.0</td>\n",
       "    </tr>\n",
       "    <tr>\n",
       "      <th>1108.0</th>\n",
       "      <th>12.0</th>\n",
       "      <td>NaN</td>\n",
       "      <td>NaN</td>\n",
       "      <td>NaN</td>\n",
       "      <td>233.0</td>\n",
       "    </tr>\n",
       "    <tr>\n",
       "      <th>1311.0</th>\n",
       "      <th>6.0</th>\n",
       "      <td>NaN</td>\n",
       "      <td>NaN</td>\n",
       "      <td>NaN</td>\n",
       "      <td>1494.0</td>\n",
       "    </tr>\n",
       "  </tbody>\n",
       "</table>\n",
       "</div>"
      ],
      "text/plain": [
       "               calls_made  minutes_used  messages_sent  mb_used\n",
       "user_id month                                                  \n",
       "1407.0  11.0          NaN           NaN            1.0    290.0\n",
       "1482.0  10.0          NaN           NaN            2.0      NaN\n",
       "1094.0  10.0          NaN           NaN            NaN   1727.0\n",
       "1108.0  12.0          NaN           NaN            NaN    233.0\n",
       "1311.0  6.0           NaN           NaN            NaN   1494.0"
      ]
     },
     "execution_count": 37,
     "metadata": {},
     "output_type": "execute_result"
    }
   ],
   "source": [
    "#Rename columns\n",
    "overall_revenue.columns = ['calls_made', 'minutes_used', 'messages_sent', 'mb_used']\n",
    "overall_revenue.tail()"
   ]
  },
  {
   "cell_type": "code",
   "execution_count": 38,
   "metadata": {
    "scrolled": false
   },
   "outputs": [
    {
     "data": {
      "text/html": [
       "<div>\n",
       "<style scoped>\n",
       "    .dataframe tbody tr th:only-of-type {\n",
       "        vertical-align: middle;\n",
       "    }\n",
       "\n",
       "    .dataframe tbody tr th {\n",
       "        vertical-align: top;\n",
       "    }\n",
       "\n",
       "    .dataframe thead th {\n",
       "        text-align: right;\n",
       "    }\n",
       "</style>\n",
       "<table border=\"1\" class=\"dataframe\">\n",
       "  <thead>\n",
       "    <tr style=\"text-align: right;\">\n",
       "      <th></th>\n",
       "      <th>user_id</th>\n",
       "      <th>calls_made</th>\n",
       "      <th>minutes_used</th>\n",
       "      <th>messages_sent</th>\n",
       "      <th>mb_used</th>\n",
       "      <th>first_name</th>\n",
       "      <th>last_name</th>\n",
       "      <th>age</th>\n",
       "      <th>city</th>\n",
       "      <th>reg_date</th>\n",
       "      <th>plan</th>\n",
       "      <th>churn_date</th>\n",
       "    </tr>\n",
       "  </thead>\n",
       "  <tbody>\n",
       "    <tr>\n",
       "      <th>2288</th>\n",
       "      <td>1407.0</td>\n",
       "      <td>NaN</td>\n",
       "      <td>NaN</td>\n",
       "      <td>1.0</td>\n",
       "      <td>290.0</td>\n",
       "      <td>Tristan</td>\n",
       "      <td>Daugherty</td>\n",
       "      <td>27</td>\n",
       "      <td>New York-Newark-Jersey City, NY-NJ-PA MSA</td>\n",
       "      <td>2018-11-29</td>\n",
       "      <td>ultimate</td>\n",
       "      <td>NaT</td>\n",
       "    </tr>\n",
       "    <tr>\n",
       "      <th>2289</th>\n",
       "      <td>1482.0</td>\n",
       "      <td>NaN</td>\n",
       "      <td>NaN</td>\n",
       "      <td>2.0</td>\n",
       "      <td>NaN</td>\n",
       "      <td>Armand</td>\n",
       "      <td>Glenn</td>\n",
       "      <td>70</td>\n",
       "      <td>New York-Newark-Jersey City, NY-NJ-PA MSA</td>\n",
       "      <td>2018-01-01</td>\n",
       "      <td>ultimate</td>\n",
       "      <td>NaT</td>\n",
       "    </tr>\n",
       "    <tr>\n",
       "      <th>2290</th>\n",
       "      <td>1094.0</td>\n",
       "      <td>NaN</td>\n",
       "      <td>NaN</td>\n",
       "      <td>NaN</td>\n",
       "      <td>1727.0</td>\n",
       "      <td>Walter</td>\n",
       "      <td>Petersen</td>\n",
       "      <td>54</td>\n",
       "      <td>Los Angeles-Long Beach-Anaheim, CA MSA</td>\n",
       "      <td>2018-10-30</td>\n",
       "      <td>surf</td>\n",
       "      <td>2018-12-12</td>\n",
       "    </tr>\n",
       "    <tr>\n",
       "      <th>2291</th>\n",
       "      <td>1108.0</td>\n",
       "      <td>NaN</td>\n",
       "      <td>NaN</td>\n",
       "      <td>NaN</td>\n",
       "      <td>233.0</td>\n",
       "      <td>Porfirio</td>\n",
       "      <td>Kane</td>\n",
       "      <td>45</td>\n",
       "      <td>Salt Lake City, UT MSA</td>\n",
       "      <td>2018-12-30</td>\n",
       "      <td>ultimate</td>\n",
       "      <td>NaT</td>\n",
       "    </tr>\n",
       "    <tr>\n",
       "      <th>2292</th>\n",
       "      <td>1311.0</td>\n",
       "      <td>NaN</td>\n",
       "      <td>NaN</td>\n",
       "      <td>NaN</td>\n",
       "      <td>1494.0</td>\n",
       "      <td>Cherlyn</td>\n",
       "      <td>Saunders</td>\n",
       "      <td>69</td>\n",
       "      <td>Memphis, TN-MS-AR MSA</td>\n",
       "      <td>2018-06-27</td>\n",
       "      <td>ultimate</td>\n",
       "      <td>NaT</td>\n",
       "    </tr>\n",
       "  </tbody>\n",
       "</table>\n",
       "</div>"
      ],
      "text/plain": [
       "      user_id  calls_made  minutes_used  messages_sent  mb_used first_name  \\\n",
       "2288   1407.0         NaN           NaN            1.0    290.0    Tristan   \n",
       "2289   1482.0         NaN           NaN            2.0      NaN     Armand   \n",
       "2290   1094.0         NaN           NaN            NaN   1727.0     Walter   \n",
       "2291   1108.0         NaN           NaN            NaN    233.0   Porfirio   \n",
       "2292   1311.0         NaN           NaN            NaN   1494.0    Cherlyn   \n",
       "\n",
       "      last_name  age                                       city   reg_date  \\\n",
       "2288  Daugherty   27  New York-Newark-Jersey City, NY-NJ-PA MSA 2018-11-29   \n",
       "2289      Glenn   70  New York-Newark-Jersey City, NY-NJ-PA MSA 2018-01-01   \n",
       "2290   Petersen   54     Los Angeles-Long Beach-Anaheim, CA MSA 2018-10-30   \n",
       "2291       Kane   45                     Salt Lake City, UT MSA 2018-12-30   \n",
       "2292   Saunders   69                      Memphis, TN-MS-AR MSA 2018-06-27   \n",
       "\n",
       "          plan churn_date  \n",
       "2288  ultimate        NaT  \n",
       "2289  ultimate        NaT  \n",
       "2290      surf 2018-12-12  \n",
       "2291  ultimate        NaT  \n",
       "2292  ultimate        NaT  "
      ]
     },
     "execution_count": 38,
     "metadata": {},
     "output_type": "execute_result"
    }
   ],
   "source": [
    "#Get additional information needed into our overall_revenue dataframe\n",
    "overall_revenue = overall_revenue.merge(users_data, on='user_id', how = 'left')\n",
    "overall_revenue.tail()"
   ]
  },
  {
   "cell_type": "code",
   "execution_count": 39,
   "metadata": {},
   "outputs": [
    {
     "data": {
      "text/html": [
       "<div>\n",
       "<style scoped>\n",
       "    .dataframe tbody tr th:only-of-type {\n",
       "        vertical-align: middle;\n",
       "    }\n",
       "\n",
       "    .dataframe tbody tr th {\n",
       "        vertical-align: top;\n",
       "    }\n",
       "\n",
       "    .dataframe thead th {\n",
       "        text-align: right;\n",
       "    }\n",
       "</style>\n",
       "<table border=\"1\" class=\"dataframe\">\n",
       "  <thead>\n",
       "    <tr style=\"text-align: right;\">\n",
       "      <th></th>\n",
       "      <th>user_id</th>\n",
       "      <th>calls_made</th>\n",
       "      <th>minutes_used</th>\n",
       "      <th>messages_sent</th>\n",
       "      <th>mb_used</th>\n",
       "      <th>city</th>\n",
       "      <th>plan</th>\n",
       "    </tr>\n",
       "  </thead>\n",
       "  <tbody>\n",
       "    <tr>\n",
       "      <th>0</th>\n",
       "      <td>1000.0</td>\n",
       "      <td>16.0</td>\n",
       "      <td>124.0</td>\n",
       "      <td>11.0</td>\n",
       "      <td>1899.0</td>\n",
       "      <td>Atlanta-Sandy Springs-Roswell, GA MSA</td>\n",
       "      <td>ultimate</td>\n",
       "    </tr>\n",
       "  </tbody>\n",
       "</table>\n",
       "</div>"
      ],
      "text/plain": [
       "   user_id  calls_made  minutes_used  messages_sent  mb_used  \\\n",
       "0   1000.0        16.0         124.0           11.0   1899.0   \n",
       "\n",
       "                                    city      plan  \n",
       "0  Atlanta-Sandy Springs-Roswell, GA MSA  ultimate  "
      ]
     },
     "execution_count": 39,
     "metadata": {},
     "output_type": "execute_result"
    }
   ],
   "source": [
    "del overall_revenue['first_name']\n",
    "del overall_revenue['last_name']\n",
    "del overall_revenue['age']\n",
    "del overall_revenue['reg_date']\n",
    "del overall_revenue['churn_date']\n",
    "overall_revenue.head(1)"
   ]
  },
  {
   "cell_type": "code",
   "execution_count": 40,
   "metadata": {},
   "outputs": [
    {
     "data": {
      "text/html": [
       "<div>\n",
       "<style scoped>\n",
       "    .dataframe tbody tr th:only-of-type {\n",
       "        vertical-align: middle;\n",
       "    }\n",
       "\n",
       "    .dataframe tbody tr th {\n",
       "        vertical-align: top;\n",
       "    }\n",
       "\n",
       "    .dataframe thead th {\n",
       "        text-align: right;\n",
       "    }\n",
       "</style>\n",
       "<table border=\"1\" class=\"dataframe\">\n",
       "  <thead>\n",
       "    <tr style=\"text-align: right;\">\n",
       "      <th></th>\n",
       "      <th>user_id</th>\n",
       "      <th>calls_made</th>\n",
       "      <th>minutes_used</th>\n",
       "      <th>messages_sent</th>\n",
       "      <th>mb_used</th>\n",
       "      <th>city</th>\n",
       "      <th>plan</th>\n",
       "      <th>plan_minutes</th>\n",
       "    </tr>\n",
       "  </thead>\n",
       "  <tbody>\n",
       "    <tr>\n",
       "      <th>0</th>\n",
       "      <td>1000.0</td>\n",
       "      <td>16.0</td>\n",
       "      <td>124.0</td>\n",
       "      <td>11.0</td>\n",
       "      <td>1899.0</td>\n",
       "      <td>Atlanta-Sandy Springs-Roswell, GA MSA</td>\n",
       "      <td>ultimate</td>\n",
       "      <td>3000</td>\n",
       "    </tr>\n",
       "  </tbody>\n",
       "</table>\n",
       "</div>"
      ],
      "text/plain": [
       "   user_id  calls_made  minutes_used  messages_sent  mb_used  \\\n",
       "0   1000.0        16.0         124.0           11.0   1899.0   \n",
       "\n",
       "                                    city      plan  plan_minutes  \n",
       "0  Atlanta-Sandy Springs-Roswell, GA MSA  ultimate          3000  "
      ]
     },
     "execution_count": 40,
     "metadata": {},
     "output_type": "execute_result"
    }
   ],
   "source": [
    "#Make plan_minutes column\n",
    "overall_revenue['plan_minutes'] = overall_revenue['plan']\n",
    "overall_revenue['plan_minutes'] = overall_revenue['plan_minutes'].replace('surf', 500)\n",
    "overall_revenue['plan_minutes'] = overall_revenue['plan_minutes'].replace('ultimate', 3000)\n",
    "overall_revenue.head(1)"
   ]
  },
  {
   "cell_type": "code",
   "execution_count": 41,
   "metadata": {},
   "outputs": [
    {
     "data": {
      "text/html": [
       "<div>\n",
       "<style scoped>\n",
       "    .dataframe tbody tr th:only-of-type {\n",
       "        vertical-align: middle;\n",
       "    }\n",
       "\n",
       "    .dataframe tbody tr th {\n",
       "        vertical-align: top;\n",
       "    }\n",
       "\n",
       "    .dataframe thead th {\n",
       "        text-align: right;\n",
       "    }\n",
       "</style>\n",
       "<table border=\"1\" class=\"dataframe\">\n",
       "  <thead>\n",
       "    <tr style=\"text-align: right;\">\n",
       "      <th></th>\n",
       "      <th>user_id</th>\n",
       "      <th>calls_made</th>\n",
       "      <th>minutes_used</th>\n",
       "      <th>messages_sent</th>\n",
       "      <th>mb_used</th>\n",
       "      <th>city</th>\n",
       "      <th>plan</th>\n",
       "      <th>plan_minutes</th>\n",
       "      <th>plan_messages</th>\n",
       "    </tr>\n",
       "  </thead>\n",
       "  <tbody>\n",
       "    <tr>\n",
       "      <th>0</th>\n",
       "      <td>1000.0</td>\n",
       "      <td>16.0</td>\n",
       "      <td>124.0</td>\n",
       "      <td>11.0</td>\n",
       "      <td>1899.0</td>\n",
       "      <td>Atlanta-Sandy Springs-Roswell, GA MSA</td>\n",
       "      <td>ultimate</td>\n",
       "      <td>3000</td>\n",
       "      <td>1000</td>\n",
       "    </tr>\n",
       "  </tbody>\n",
       "</table>\n",
       "</div>"
      ],
      "text/plain": [
       "   user_id  calls_made  minutes_used  messages_sent  mb_used  \\\n",
       "0   1000.0        16.0         124.0           11.0   1899.0   \n",
       "\n",
       "                                    city      plan  plan_minutes  \\\n",
       "0  Atlanta-Sandy Springs-Roswell, GA MSA  ultimate          3000   \n",
       "\n",
       "   plan_messages  \n",
       "0           1000  "
      ]
     },
     "execution_count": 41,
     "metadata": {},
     "output_type": "execute_result"
    }
   ],
   "source": [
    "#Make plan_messages column\n",
    "overall_revenue['plan_messages'] = overall_revenue['plan']\n",
    "overall_revenue['plan_messages'] = overall_revenue['plan_messages'].replace('surf', 50)\n",
    "overall_revenue['plan_messages'] = overall_revenue['plan_messages'].replace('ultimate', 1000)\n",
    "overall_revenue.head(1)"
   ]
  },
  {
   "cell_type": "code",
   "execution_count": 42,
   "metadata": {},
   "outputs": [
    {
     "data": {
      "text/html": [
       "<div>\n",
       "<style scoped>\n",
       "    .dataframe tbody tr th:only-of-type {\n",
       "        vertical-align: middle;\n",
       "    }\n",
       "\n",
       "    .dataframe tbody tr th {\n",
       "        vertical-align: top;\n",
       "    }\n",
       "\n",
       "    .dataframe thead th {\n",
       "        text-align: right;\n",
       "    }\n",
       "</style>\n",
       "<table border=\"1\" class=\"dataframe\">\n",
       "  <thead>\n",
       "    <tr style=\"text-align: right;\">\n",
       "      <th></th>\n",
       "      <th>user_id</th>\n",
       "      <th>calls_made</th>\n",
       "      <th>minutes_used</th>\n",
       "      <th>messages_sent</th>\n",
       "      <th>mb_used</th>\n",
       "      <th>city</th>\n",
       "      <th>plan</th>\n",
       "      <th>plan_minutes</th>\n",
       "      <th>plan_messages</th>\n",
       "      <th>plan_mb</th>\n",
       "    </tr>\n",
       "  </thead>\n",
       "  <tbody>\n",
       "    <tr>\n",
       "      <th>0</th>\n",
       "      <td>1000.0</td>\n",
       "      <td>16.0</td>\n",
       "      <td>124.0</td>\n",
       "      <td>11.0</td>\n",
       "      <td>1899.0</td>\n",
       "      <td>Atlanta-Sandy Springs-Roswell, GA MSA</td>\n",
       "      <td>ultimate</td>\n",
       "      <td>3000</td>\n",
       "      <td>1000</td>\n",
       "      <td>30720</td>\n",
       "    </tr>\n",
       "  </tbody>\n",
       "</table>\n",
       "</div>"
      ],
      "text/plain": [
       "   user_id  calls_made  minutes_used  messages_sent  mb_used  \\\n",
       "0   1000.0        16.0         124.0           11.0   1899.0   \n",
       "\n",
       "                                    city      plan  plan_minutes  \\\n",
       "0  Atlanta-Sandy Springs-Roswell, GA MSA  ultimate          3000   \n",
       "\n",
       "   plan_messages  plan_mb  \n",
       "0           1000    30720  "
      ]
     },
     "execution_count": 42,
     "metadata": {},
     "output_type": "execute_result"
    }
   ],
   "source": [
    "#Make plan_internet_mb column\n",
    "overall_revenue['plan_mb'] = overall_revenue['plan']\n",
    "overall_revenue['plan_mb'] = overall_revenue['plan_mb'].replace('surf', 15360)\n",
    "overall_revenue['plan_mb'] = overall_revenue['plan_mb'].replace('ultimate', 30720)\n",
    "overall_revenue.head(1)"
   ]
  },
  {
   "cell_type": "code",
   "execution_count": 43,
   "metadata": {},
   "outputs": [],
   "source": [
    "#Make nulls into 0 - these fills months in which users didn't consume\n",
    "overall_revenue.fillna(value=0, inplace=True)"
   ]
  },
  {
   "cell_type": "code",
   "execution_count": 44,
   "metadata": {},
   "outputs": [],
   "source": [
    "#Change float data types to int\n",
    "overall_revenue['calls_made'] = overall_revenue['calls_made'].astype(int)\n",
    "overall_revenue['minutes_used'] = overall_revenue['minutes_used'].astype(int)\n",
    "overall_revenue['messages_sent'] = overall_revenue['messages_sent'].astype(int)\n",
    "overall_revenue['mb_used'] = overall_revenue['mb_used'].astype(int)"
   ]
  },
  {
   "cell_type": "code",
   "execution_count": 45,
   "metadata": {},
   "outputs": [
    {
     "data": {
      "text/html": [
       "<div>\n",
       "<style scoped>\n",
       "    .dataframe tbody tr th:only-of-type {\n",
       "        vertical-align: middle;\n",
       "    }\n",
       "\n",
       "    .dataframe tbody tr th {\n",
       "        vertical-align: top;\n",
       "    }\n",
       "\n",
       "    .dataframe thead th {\n",
       "        text-align: right;\n",
       "    }\n",
       "</style>\n",
       "<table border=\"1\" class=\"dataframe\">\n",
       "  <thead>\n",
       "    <tr style=\"text-align: right;\">\n",
       "      <th></th>\n",
       "      <th>user_id</th>\n",
       "      <th>calls_made</th>\n",
       "      <th>minutes_used</th>\n",
       "      <th>messages_sent</th>\n",
       "      <th>mb_used</th>\n",
       "      <th>city</th>\n",
       "      <th>plan</th>\n",
       "      <th>plan_minutes</th>\n",
       "      <th>plan_messages</th>\n",
       "      <th>plan_mb</th>\n",
       "      <th>minutes_overused</th>\n",
       "    </tr>\n",
       "  </thead>\n",
       "  <tbody>\n",
       "    <tr>\n",
       "      <th>2292</th>\n",
       "      <td>1311.0</td>\n",
       "      <td>0</td>\n",
       "      <td>0</td>\n",
       "      <td>0</td>\n",
       "      <td>1494</td>\n",
       "      <td>Memphis, TN-MS-AR MSA</td>\n",
       "      <td>ultimate</td>\n",
       "      <td>3000</td>\n",
       "      <td>1000</td>\n",
       "      <td>30720</td>\n",
       "      <td>0</td>\n",
       "    </tr>\n",
       "  </tbody>\n",
       "</table>\n",
       "</div>"
      ],
      "text/plain": [
       "      user_id  calls_made  minutes_used  messages_sent  mb_used  \\\n",
       "2292   1311.0           0             0              0     1494   \n",
       "\n",
       "                       city      plan  plan_minutes  plan_messages  plan_mb  \\\n",
       "2292  Memphis, TN-MS-AR MSA  ultimate          3000           1000    30720   \n",
       "\n",
       "      minutes_overused  \n",
       "2292                 0  "
      ]
     },
     "execution_count": 45,
     "metadata": {},
     "output_type": "execute_result"
    }
   ],
   "source": [
    "#Make minutes_overused column, convert negative numbers to 0\n",
    "overall_revenue['minutes_overused'] = overall_revenue['minutes_used'] - overall_revenue['plan_minutes']\n",
    "overall_revenue['minutes_overused'] = overall_revenue['minutes_overused'].apply(lambda x: '0' if x < 0 else x)\n",
    "overall_revenue['minutes_overused'] = overall_revenue['minutes_overused'].astype(int)\n",
    "overall_revenue.tail(1)"
   ]
  },
  {
   "cell_type": "code",
   "execution_count": 46,
   "metadata": {},
   "outputs": [
    {
     "data": {
      "text/html": [
       "<div>\n",
       "<style scoped>\n",
       "    .dataframe tbody tr th:only-of-type {\n",
       "        vertical-align: middle;\n",
       "    }\n",
       "\n",
       "    .dataframe tbody tr th {\n",
       "        vertical-align: top;\n",
       "    }\n",
       "\n",
       "    .dataframe thead th {\n",
       "        text-align: right;\n",
       "    }\n",
       "</style>\n",
       "<table border=\"1\" class=\"dataframe\">\n",
       "  <thead>\n",
       "    <tr style=\"text-align: right;\">\n",
       "      <th></th>\n",
       "      <th>user_id</th>\n",
       "      <th>calls_made</th>\n",
       "      <th>minutes_used</th>\n",
       "      <th>messages_sent</th>\n",
       "      <th>mb_used</th>\n",
       "      <th>city</th>\n",
       "      <th>plan</th>\n",
       "      <th>plan_minutes</th>\n",
       "      <th>plan_messages</th>\n",
       "      <th>plan_mb</th>\n",
       "      <th>minutes_overused</th>\n",
       "      <th>messages_overused</th>\n",
       "    </tr>\n",
       "  </thead>\n",
       "  <tbody>\n",
       "    <tr>\n",
       "      <th>0</th>\n",
       "      <td>1000.0</td>\n",
       "      <td>16</td>\n",
       "      <td>124</td>\n",
       "      <td>11</td>\n",
       "      <td>1899</td>\n",
       "      <td>Atlanta-Sandy Springs-Roswell, GA MSA</td>\n",
       "      <td>ultimate</td>\n",
       "      <td>3000</td>\n",
       "      <td>1000</td>\n",
       "      <td>30720</td>\n",
       "      <td>0</td>\n",
       "      <td>0</td>\n",
       "    </tr>\n",
       "  </tbody>\n",
       "</table>\n",
       "</div>"
      ],
      "text/plain": [
       "   user_id  calls_made  minutes_used  messages_sent  mb_used  \\\n",
       "0   1000.0          16           124             11     1899   \n",
       "\n",
       "                                    city      plan  plan_minutes  \\\n",
       "0  Atlanta-Sandy Springs-Roswell, GA MSA  ultimate          3000   \n",
       "\n",
       "   plan_messages  plan_mb  minutes_overused  messages_overused  \n",
       "0           1000    30720                 0                  0  "
      ]
     },
     "execution_count": 46,
     "metadata": {},
     "output_type": "execute_result"
    }
   ],
   "source": [
    "#Make messages_overused column, convert negative numbers to 0\n",
    "overall_revenue['messages_overused'] = overall_revenue['messages_sent'] - overall_revenue['plan_messages']\n",
    "overall_revenue['messages_overused'] = overall_revenue['messages_overused'].apply(lambda x: '0' if x < 0 else x)\n",
    "overall_revenue['messages_overused'] = overall_revenue['messages_overused'].astype(int)\n",
    "overall_revenue.head(1)"
   ]
  },
  {
   "cell_type": "code",
   "execution_count": 47,
   "metadata": {},
   "outputs": [
    {
     "data": {
      "text/html": [
       "<div>\n",
       "<style scoped>\n",
       "    .dataframe tbody tr th:only-of-type {\n",
       "        vertical-align: middle;\n",
       "    }\n",
       "\n",
       "    .dataframe tbody tr th {\n",
       "        vertical-align: top;\n",
       "    }\n",
       "\n",
       "    .dataframe thead th {\n",
       "        text-align: right;\n",
       "    }\n",
       "</style>\n",
       "<table border=\"1\" class=\"dataframe\">\n",
       "  <thead>\n",
       "    <tr style=\"text-align: right;\">\n",
       "      <th></th>\n",
       "      <th>user_id</th>\n",
       "      <th>calls_made</th>\n",
       "      <th>minutes_used</th>\n",
       "      <th>messages_sent</th>\n",
       "      <th>mb_used</th>\n",
       "      <th>city</th>\n",
       "      <th>plan</th>\n",
       "      <th>plan_minutes</th>\n",
       "      <th>plan_messages</th>\n",
       "      <th>plan_mb</th>\n",
       "      <th>minutes_overused</th>\n",
       "      <th>messages_overused</th>\n",
       "      <th>mb_overused</th>\n",
       "    </tr>\n",
       "  </thead>\n",
       "  <tbody>\n",
       "    <tr>\n",
       "      <th>0</th>\n",
       "      <td>1000.0</td>\n",
       "      <td>16</td>\n",
       "      <td>124</td>\n",
       "      <td>11</td>\n",
       "      <td>1899</td>\n",
       "      <td>Atlanta-Sandy Springs-Roswell, GA MSA</td>\n",
       "      <td>ultimate</td>\n",
       "      <td>3000</td>\n",
       "      <td>1000</td>\n",
       "      <td>30720</td>\n",
       "      <td>0</td>\n",
       "      <td>0</td>\n",
       "      <td>0</td>\n",
       "    </tr>\n",
       "  </tbody>\n",
       "</table>\n",
       "</div>"
      ],
      "text/plain": [
       "   user_id  calls_made  minutes_used  messages_sent  mb_used  \\\n",
       "0   1000.0          16           124             11     1899   \n",
       "\n",
       "                                    city      plan  plan_minutes  \\\n",
       "0  Atlanta-Sandy Springs-Roswell, GA MSA  ultimate          3000   \n",
       "\n",
       "   plan_messages  plan_mb  minutes_overused  messages_overused  mb_overused  \n",
       "0           1000    30720                 0                  0            0  "
      ]
     },
     "execution_count": 47,
     "metadata": {},
     "output_type": "execute_result"
    }
   ],
   "source": [
    "#Make mb_overused column, convert negative numbers to 0\n",
    "overall_revenue['mb_overused'] = overall_revenue['mb_used'] - overall_revenue['plan_mb']\n",
    "overall_revenue['mb_overused'] = overall_revenue['mb_overused'].apply(lambda x: '0' if x < 0 else x)\n",
    "overall_revenue['mb_overused'] = overall_revenue['mb_overused'].astype(int)\n",
    "overall_revenue.head(1)"
   ]
  },
  {
   "cell_type": "code",
   "execution_count": 48,
   "metadata": {},
   "outputs": [
    {
     "data": {
      "text/html": [
       "<div>\n",
       "<style scoped>\n",
       "    .dataframe tbody tr th:only-of-type {\n",
       "        vertical-align: middle;\n",
       "    }\n",
       "\n",
       "    .dataframe tbody tr th {\n",
       "        vertical-align: top;\n",
       "    }\n",
       "\n",
       "    .dataframe thead th {\n",
       "        text-align: right;\n",
       "    }\n",
       "</style>\n",
       "<table border=\"1\" class=\"dataframe\">\n",
       "  <thead>\n",
       "    <tr style=\"text-align: right;\">\n",
       "      <th></th>\n",
       "      <th>user_id</th>\n",
       "      <th>calls_made</th>\n",
       "      <th>minutes_used</th>\n",
       "      <th>messages_sent</th>\n",
       "      <th>mb_used</th>\n",
       "      <th>city</th>\n",
       "      <th>plan</th>\n",
       "      <th>plan_minutes</th>\n",
       "      <th>plan_messages</th>\n",
       "      <th>plan_mb</th>\n",
       "      <th>minutes_overused</th>\n",
       "      <th>messages_overused</th>\n",
       "      <th>mb_overused</th>\n",
       "      <th>gb_overused</th>\n",
       "    </tr>\n",
       "  </thead>\n",
       "  <tbody>\n",
       "    <tr>\n",
       "      <th>0</th>\n",
       "      <td>1000.0</td>\n",
       "      <td>16</td>\n",
       "      <td>124</td>\n",
       "      <td>11</td>\n",
       "      <td>1899</td>\n",
       "      <td>Atlanta-Sandy Springs-Roswell, GA MSA</td>\n",
       "      <td>ultimate</td>\n",
       "      <td>3000</td>\n",
       "      <td>1000</td>\n",
       "      <td>30720</td>\n",
       "      <td>0</td>\n",
       "      <td>0</td>\n",
       "      <td>0</td>\n",
       "      <td>0</td>\n",
       "    </tr>\n",
       "  </tbody>\n",
       "</table>\n",
       "</div>"
      ],
      "text/plain": [
       "   user_id  calls_made  minutes_used  messages_sent  mb_used  \\\n",
       "0   1000.0          16           124             11     1899   \n",
       "\n",
       "                                    city      plan  plan_minutes  \\\n",
       "0  Atlanta-Sandy Springs-Roswell, GA MSA  ultimate          3000   \n",
       "\n",
       "   plan_messages  plan_mb  minutes_overused  messages_overused  mb_overused  \\\n",
       "0           1000    30720                 0                  0            0   \n",
       "\n",
       "   gb_overused  \n",
       "0            0  "
      ]
     },
     "execution_count": 48,
     "metadata": {},
     "output_type": "execute_result"
    }
   ],
   "source": [
    "#Add column converting mb to gb because Megaline does analysis in gb metric\n",
    "overall_revenue['gb_overused'] = overall_revenue['mb_overused']/1024\n",
    "overall_revenue['gb_overused'] = overall_revenue['gb_overused'].apply(np.ceil)\n",
    "overall_revenue['gb_overused'] = overall_revenue['gb_overused'].astype(int)\n",
    "overall_revenue.head(1)"
   ]
  },
  {
   "cell_type": "code",
   "execution_count": 49,
   "metadata": {},
   "outputs": [
    {
     "data": {
      "text/html": [
       "<div>\n",
       "<style scoped>\n",
       "    .dataframe tbody tr th:only-of-type {\n",
       "        vertical-align: middle;\n",
       "    }\n",
       "\n",
       "    .dataframe tbody tr th {\n",
       "        vertical-align: top;\n",
       "    }\n",
       "\n",
       "    .dataframe thead th {\n",
       "        text-align: right;\n",
       "    }\n",
       "</style>\n",
       "<table border=\"1\" class=\"dataframe\">\n",
       "  <thead>\n",
       "    <tr style=\"text-align: right;\">\n",
       "      <th></th>\n",
       "      <th>user_id</th>\n",
       "      <th>calls_made</th>\n",
       "      <th>minutes_used</th>\n",
       "      <th>messages_sent</th>\n",
       "      <th>mb_used</th>\n",
       "      <th>city</th>\n",
       "      <th>plan</th>\n",
       "      <th>plan_minutes</th>\n",
       "      <th>plan_messages</th>\n",
       "      <th>plan_mb</th>\n",
       "      <th>minutes_overused</th>\n",
       "      <th>messages_overused</th>\n",
       "      <th>mb_overused</th>\n",
       "      <th>gb_overused</th>\n",
       "      <th>usd_per_minute</th>\n",
       "      <th>usd_per_message</th>\n",
       "      <th>usd_per_gb</th>\n",
       "    </tr>\n",
       "  </thead>\n",
       "  <tbody>\n",
       "    <tr>\n",
       "      <th>0</th>\n",
       "      <td>1000.0</td>\n",
       "      <td>16</td>\n",
       "      <td>124</td>\n",
       "      <td>11</td>\n",
       "      <td>1899</td>\n",
       "      <td>Atlanta-Sandy Springs-Roswell, GA MSA</td>\n",
       "      <td>ultimate</td>\n",
       "      <td>3000</td>\n",
       "      <td>1000</td>\n",
       "      <td>30720</td>\n",
       "      <td>0</td>\n",
       "      <td>0</td>\n",
       "      <td>0</td>\n",
       "      <td>0</td>\n",
       "      <td>0.01</td>\n",
       "      <td>0.01</td>\n",
       "      <td>7</td>\n",
       "    </tr>\n",
       "  </tbody>\n",
       "</table>\n",
       "</div>"
      ],
      "text/plain": [
       "   user_id  calls_made  minutes_used  messages_sent  mb_used  \\\n",
       "0   1000.0          16           124             11     1899   \n",
       "\n",
       "                                    city      plan  plan_minutes  \\\n",
       "0  Atlanta-Sandy Springs-Roswell, GA MSA  ultimate          3000   \n",
       "\n",
       "   plan_messages  plan_mb  minutes_overused  messages_overused  mb_overused  \\\n",
       "0           1000    30720                 0                  0            0   \n",
       "\n",
       "   gb_overused  usd_per_minute  usd_per_message  usd_per_gb  \n",
       "0            0            0.01             0.01           7  "
      ]
     },
     "execution_count": 49,
     "metadata": {},
     "output_type": "execute_result"
    }
   ],
   "source": [
    "#Adding column usd_per_minute\n",
    "overall_revenue['usd_per_minute'] = overall_revenue['plan']\n",
    "overall_revenue['usd_per_minute'] = overall_revenue['usd_per_minute'].replace('surf', 0.03)\n",
    "overall_revenue['usd_per_minute'] = overall_revenue['usd_per_minute'].replace('ultimate', 0.01)\n",
    "#Adding column usd_per_message\n",
    "overall_revenue['usd_per_message'] = overall_revenue['plan']\n",
    "overall_revenue['usd_per_message'] = overall_revenue['usd_per_message'].replace('surf', 0.03)\n",
    "overall_revenue['usd_per_message'] = overall_revenue['usd_per_message'].replace('ultimate', 0.01)\n",
    "#Adding column usd_per_gb\n",
    "overall_revenue['usd_per_gb'] = overall_revenue['plan']\n",
    "overall_revenue['usd_per_gb'] = overall_revenue['usd_per_gb'].replace('surf', 10)\n",
    "overall_revenue['usd_per_gb'] = overall_revenue['usd_per_gb'].replace('ultimate', 7)\n",
    "overall_revenue.head(1)"
   ]
  },
  {
   "cell_type": "code",
   "execution_count": 50,
   "metadata": {},
   "outputs": [],
   "source": [
    "#Adding column calls_revenue\n",
    "overall_revenue['calls_revenue'] = overall_revenue['minutes_overused']*overall_revenue['usd_per_minute']\n",
    "#Adding column messages_revenue\n",
    "overall_revenue['messages_revenue'] = overall_revenue['messages_overused']*overall_revenue['usd_per_message']\n",
    "#Adding column internet_revenue\n",
    "overall_revenue['internet_revenue'] = overall_revenue['gb_overused']*overall_revenue['usd_per_gb']\n",
    "#Adding column plan_cost_revenue\n",
    "overall_revenue['plan_cost_revenue'] = overall_revenue['plan']\n",
    "overall_revenue['plan_cost_revenue'] = overall_revenue['plan_cost_revenue'].replace('surf', 20)\n",
    "overall_revenue['plan_cost_revenue'] = overall_revenue['plan_cost_revenue'].replace('ultimate', 70)\n",
    "#Adding column total_revenue\n",
    "overall_revenue ['total_revenue'] = overall_revenue['calls_revenue']+overall_revenue['messages_revenue']+overall_revenue['internet_revenue']+overall_revenue['plan_cost_revenue']"
   ]
  },
  {
   "cell_type": "code",
   "execution_count": 51,
   "metadata": {
    "scrolled": true
   },
   "outputs": [
    {
     "data": {
      "text/html": [
       "<div>\n",
       "<style scoped>\n",
       "    .dataframe tbody tr th:only-of-type {\n",
       "        vertical-align: middle;\n",
       "    }\n",
       "\n",
       "    .dataframe tbody tr th {\n",
       "        vertical-align: top;\n",
       "    }\n",
       "\n",
       "    .dataframe thead th {\n",
       "        text-align: right;\n",
       "    }\n",
       "</style>\n",
       "<table border=\"1\" class=\"dataframe\">\n",
       "  <thead>\n",
       "    <tr style=\"text-align: right;\">\n",
       "      <th></th>\n",
       "      <th>user_id</th>\n",
       "      <th>calls_made</th>\n",
       "      <th>minutes_used</th>\n",
       "      <th>messages_sent</th>\n",
       "      <th>mb_used</th>\n",
       "      <th>city</th>\n",
       "      <th>plan</th>\n",
       "      <th>plan_minutes</th>\n",
       "      <th>plan_messages</th>\n",
       "      <th>plan_mb</th>\n",
       "      <th>...</th>\n",
       "      <th>mb_overused</th>\n",
       "      <th>gb_overused</th>\n",
       "      <th>usd_per_minute</th>\n",
       "      <th>usd_per_message</th>\n",
       "      <th>usd_per_gb</th>\n",
       "      <th>calls_revenue</th>\n",
       "      <th>messages_revenue</th>\n",
       "      <th>internet_revenue</th>\n",
       "      <th>plan_cost_revenue</th>\n",
       "      <th>total_revenue</th>\n",
       "    </tr>\n",
       "  </thead>\n",
       "  <tbody>\n",
       "    <tr>\n",
       "      <th>0</th>\n",
       "      <td>1000.0</td>\n",
       "      <td>16</td>\n",
       "      <td>124</td>\n",
       "      <td>11</td>\n",
       "      <td>1899</td>\n",
       "      <td>Atlanta-Sandy Springs-Roswell, GA MSA</td>\n",
       "      <td>ultimate</td>\n",
       "      <td>3000</td>\n",
       "      <td>1000</td>\n",
       "      <td>30720</td>\n",
       "      <td>...</td>\n",
       "      <td>0</td>\n",
       "      <td>0</td>\n",
       "      <td>0.01</td>\n",
       "      <td>0.01</td>\n",
       "      <td>7</td>\n",
       "      <td>0.0</td>\n",
       "      <td>0.00</td>\n",
       "      <td>0</td>\n",
       "      <td>70</td>\n",
       "      <td>70.00</td>\n",
       "    </tr>\n",
       "    <tr>\n",
       "      <th>1</th>\n",
       "      <td>1001.0</td>\n",
       "      <td>22</td>\n",
       "      <td>182</td>\n",
       "      <td>30</td>\n",
       "      <td>6908</td>\n",
       "      <td>Seattle-Tacoma-Bellevue, WA MSA</td>\n",
       "      <td>surf</td>\n",
       "      <td>500</td>\n",
       "      <td>50</td>\n",
       "      <td>15360</td>\n",
       "      <td>...</td>\n",
       "      <td>0</td>\n",
       "      <td>0</td>\n",
       "      <td>0.03</td>\n",
       "      <td>0.03</td>\n",
       "      <td>10</td>\n",
       "      <td>0.0</td>\n",
       "      <td>0.00</td>\n",
       "      <td>0</td>\n",
       "      <td>20</td>\n",
       "      <td>20.00</td>\n",
       "    </tr>\n",
       "    <tr>\n",
       "      <th>2</th>\n",
       "      <td>1001.0</td>\n",
       "      <td>38</td>\n",
       "      <td>315</td>\n",
       "      <td>44</td>\n",
       "      <td>13294</td>\n",
       "      <td>Seattle-Tacoma-Bellevue, WA MSA</td>\n",
       "      <td>surf</td>\n",
       "      <td>500</td>\n",
       "      <td>50</td>\n",
       "      <td>15360</td>\n",
       "      <td>...</td>\n",
       "      <td>0</td>\n",
       "      <td>0</td>\n",
       "      <td>0.03</td>\n",
       "      <td>0.03</td>\n",
       "      <td>10</td>\n",
       "      <td>0.0</td>\n",
       "      <td>0.00</td>\n",
       "      <td>0</td>\n",
       "      <td>20</td>\n",
       "      <td>20.00</td>\n",
       "    </tr>\n",
       "    <tr>\n",
       "      <th>3</th>\n",
       "      <td>1001.0</td>\n",
       "      <td>47</td>\n",
       "      <td>393</td>\n",
       "      <td>53</td>\n",
       "      <td>22308</td>\n",
       "      <td>Seattle-Tacoma-Bellevue, WA MSA</td>\n",
       "      <td>surf</td>\n",
       "      <td>500</td>\n",
       "      <td>50</td>\n",
       "      <td>15360</td>\n",
       "      <td>...</td>\n",
       "      <td>6948</td>\n",
       "      <td>7</td>\n",
       "      <td>0.03</td>\n",
       "      <td>0.03</td>\n",
       "      <td>10</td>\n",
       "      <td>0.0</td>\n",
       "      <td>0.09</td>\n",
       "      <td>70</td>\n",
       "      <td>20</td>\n",
       "      <td>90.09</td>\n",
       "    </tr>\n",
       "    <tr>\n",
       "      <th>4</th>\n",
       "      <td>1001.0</td>\n",
       "      <td>49</td>\n",
       "      <td>426</td>\n",
       "      <td>36</td>\n",
       "      <td>18477</td>\n",
       "      <td>Seattle-Tacoma-Bellevue, WA MSA</td>\n",
       "      <td>surf</td>\n",
       "      <td>500</td>\n",
       "      <td>50</td>\n",
       "      <td>15360</td>\n",
       "      <td>...</td>\n",
       "      <td>3117</td>\n",
       "      <td>4</td>\n",
       "      <td>0.03</td>\n",
       "      <td>0.03</td>\n",
       "      <td>10</td>\n",
       "      <td>0.0</td>\n",
       "      <td>0.00</td>\n",
       "      <td>40</td>\n",
       "      <td>20</td>\n",
       "      <td>60.00</td>\n",
       "    </tr>\n",
       "  </tbody>\n",
       "</table>\n",
       "<p>5 rows × 22 columns</p>\n",
       "</div>"
      ],
      "text/plain": [
       "   user_id  calls_made  minutes_used  messages_sent  mb_used  \\\n",
       "0   1000.0          16           124             11     1899   \n",
       "1   1001.0          22           182             30     6908   \n",
       "2   1001.0          38           315             44    13294   \n",
       "3   1001.0          47           393             53    22308   \n",
       "4   1001.0          49           426             36    18477   \n",
       "\n",
       "                                    city      plan  plan_minutes  \\\n",
       "0  Atlanta-Sandy Springs-Roswell, GA MSA  ultimate          3000   \n",
       "1        Seattle-Tacoma-Bellevue, WA MSA      surf           500   \n",
       "2        Seattle-Tacoma-Bellevue, WA MSA      surf           500   \n",
       "3        Seattle-Tacoma-Bellevue, WA MSA      surf           500   \n",
       "4        Seattle-Tacoma-Bellevue, WA MSA      surf           500   \n",
       "\n",
       "   plan_messages  plan_mb  ...  mb_overused  gb_overused  usd_per_minute  \\\n",
       "0           1000    30720  ...            0            0            0.01   \n",
       "1             50    15360  ...            0            0            0.03   \n",
       "2             50    15360  ...            0            0            0.03   \n",
       "3             50    15360  ...         6948            7            0.03   \n",
       "4             50    15360  ...         3117            4            0.03   \n",
       "\n",
       "   usd_per_message  usd_per_gb  calls_revenue  messages_revenue  \\\n",
       "0             0.01           7            0.0              0.00   \n",
       "1             0.03          10            0.0              0.00   \n",
       "2             0.03          10            0.0              0.00   \n",
       "3             0.03          10            0.0              0.09   \n",
       "4             0.03          10            0.0              0.00   \n",
       "\n",
       "   internet_revenue  plan_cost_revenue  total_revenue  \n",
       "0                 0                 70          70.00  \n",
       "1                 0                 20          20.00  \n",
       "2                 0                 20          20.00  \n",
       "3                70                 20          90.09  \n",
       "4                40                 20          60.00  \n",
       "\n",
       "[5 rows x 22 columns]"
      ]
     },
     "execution_count": 51,
     "metadata": {},
     "output_type": "execute_result"
    }
   ],
   "source": [
    "overall_revenue.head()"
   ]
  },
  {
   "cell_type": "markdown",
   "metadata": {},
   "source": [
    "This dataframe contains the revenue per customer per month for overlapping user_ids and months in the calls_data, messages_data, and internet_data files "
   ]
  },
  {
   "cell_type": "markdown",
   "metadata": {},
   "source": [
    "<a id='3heading'></a>"
   ]
  },
  {
   "cell_type": "markdown",
   "metadata": {},
   "source": [
    "## Analyze the data"
   ]
  },
  {
   "cell_type": "markdown",
   "metadata": {},
   "source": [
    "In this section, we'll describe the customers' behavior by finding the minutes, texts, and volume of data the users of each plan require per month. We'll Calculate the mean, dispersion, and standard deviation. We'll additionally Plot histograms and describe the distributions."
   ]
  },
  {
   "cell_type": "code",
   "execution_count": 52,
   "metadata": {},
   "outputs": [],
   "source": [
    "#Convert mb_used column to gb_used - Megaline does analysis in gb\n",
    "overall_revenue['mb_used'] = overall_revenue['mb_used']/1024\n",
    "overall_revenue['mb_used'] = overall_revenue['mb_used'].apply(np.ceil)\n",
    "overall_revenue['mb_used'] = overall_revenue['mb_used'].astype(int)\n",
    "overall_revenue.rename(columns={'mb_used':'gb_used'}, inplace=True)"
   ]
  },
  {
   "cell_type": "code",
   "execution_count": 53,
   "metadata": {},
   "outputs": [],
   "source": [
    "#Make dataframe with only Surf users\n",
    "overall_revenue_surf = overall_revenue.query('plan == \"surf\"')"
   ]
  },
  {
   "cell_type": "code",
   "execution_count": 54,
   "metadata": {},
   "outputs": [],
   "source": [
    "#Make dataframe with only Ultimate users\n",
    "overall_revenue_ultimate = overall_revenue.query('plan == \"ultimate\"')"
   ]
  },
  {
   "cell_type": "markdown",
   "metadata": {},
   "source": [
    "<h6><center>Minutes_used</center></h6>"
   ]
  },
  {
   "cell_type": "code",
   "execution_count": 55,
   "metadata": {},
   "outputs": [
    {
     "name": "stdout",
     "output_type": "stream",
     "text": [
      "Minutes_used standard deviation: 234.37861376695076\n"
     ]
    }
   ],
   "source": [
    "#Getting days_listed standard deviation\n",
    "minutes_used_std_dev = np.std(overall_revenue_surf['minutes_used'])\n",
    "print('Minutes_used standard deviation:',minutes_used_std_dev)"
   ]
  },
  {
   "cell_type": "code",
   "execution_count": 56,
   "metadata": {},
   "outputs": [
    {
     "name": "stdout",
     "output_type": "stream",
     "text": [
      "Minutes_used\n",
      "2 Std Dev lower limit: -40.00770432983285\n",
      "1 Std Dev lower limit: 194.37090943711792\n",
      "1 Std Dev upper limit: 663.1281369710194\n",
      "2 Std Dev upper limit: 897.5067507379702\n"
     ]
    }
   ],
   "source": [
    "#Getting limit for std dev above and below\n",
    "overall_revenue_surf__2std_below_limit = overall_revenue_surf['minutes_used'].mean() - minutes_used_std_dev*2\n",
    "overall_revenue_surf__1std_below_limit = overall_revenue_surf['minutes_used'].mean() - minutes_used_std_dev\n",
    "overall_revenue_surf__1std_above_limit = overall_revenue_surf['minutes_used'].mean() + minutes_used_std_dev\n",
    "overall_revenue_surf__2std_above_limit = overall_revenue_surf['minutes_used'].mean() + minutes_used_std_dev*2\n",
    "print('Minutes_used')\n",
    "print('2 Std Dev lower limit:', overall_revenue_surf__2std_below_limit)\n",
    "print('1 Std Dev lower limit:', overall_revenue_surf__1std_below_limit)\n",
    "print('1 Std Dev upper limit:', overall_revenue_surf__1std_above_limit)\n",
    "print('2 Std Dev upper limit:', overall_revenue_surf__2std_above_limit)"
   ]
  },
  {
   "cell_type": "markdown",
   "metadata": {},
   "source": [
    "Since the distribution has a lower bound at 2, but no upper bound, it is skewwed right. In this case the empirical rule to use standard deviations to set lower and upper bounds for further analysis does not apply. Since all other histograms are skewwed right, will not use std devs to remove outliers."
   ]
  },
  {
   "cell_type": "code",
   "execution_count": 57,
   "metadata": {},
   "outputs": [
    {
     "name": "stdout",
     "output_type": "stream",
     "text": [
      "Surf minutes_used upper limit: -184.0\n",
      "Surf minutes_used upper limit: 1032.0\n"
     ]
    }
   ],
   "source": [
    "#Figuring out minutes_used upper limit for Surf\n",
    "Q1 = overall_revenue_surf['minutes_used'].quantile(0.25)\n",
    "Q3 = overall_revenue_surf['minutes_used'].quantile(0.75)\n",
    "IQR = Q3 - Q1\n",
    "minutes_used_lower_outliers = Q1-1.5*IQR\n",
    "minutes_used_upper_outliers = Q3+1.5*IQR\n",
    "print('Surf minutes_used upper limit:', minutes_used_lower_outliers)\n",
    "print('Surf minutes_used upper limit:', minutes_used_upper_outliers)"
   ]
  },
  {
   "cell_type": "code",
   "execution_count": 58,
   "metadata": {},
   "outputs": [
    {
     "name": "stdout",
     "output_type": "stream",
     "text": [
      "Ultimate minutes_used upper limit: -197.875\n",
      "Ultimate minutes_used upper limit: 1023.125\n"
     ]
    }
   ],
   "source": [
    "#Figuring out minutes_used upper limit for Ultimate\n",
    "Q1 = overall_revenue_ultimate['minutes_used'].quantile(0.25)\n",
    "Q3 = overall_revenue_ultimate['minutes_used'].quantile(0.75)\n",
    "IQR = Q3 - Q1\n",
    "minutes_used_lower_outliers = Q1-1.5*IQR\n",
    "minutes_used_upper_outliers = Q3+1.5*IQR\n",
    "print('Ultimate minutes_used upper limit:', minutes_used_lower_outliers)\n",
    "print('Ultimate minutes_used upper limit:', minutes_used_upper_outliers)"
   ]
  },
  {
   "cell_type": "code",
   "execution_count": 59,
   "metadata": {},
   "outputs": [],
   "source": [
    "#Removing outliers\n",
    "overall_revenue_surf_minutes_used_clean = overall_revenue_surf.query('minutes_used <= 1032.0')\n",
    "overall_revenue_ultimate_minutes_used_clean = overall_revenue_ultimate.query('minutes_used <= 1023.125')"
   ]
  },
  {
   "cell_type": "code",
   "execution_count": 60,
   "metadata": {},
   "outputs": [
    {
     "data": {
      "image/png": "[encoded data removed]",
      "text/plain": [
       "<Figure size 432x288 with 1 Axes>"
      ]
     },
     "metadata": {
      "needs_background": "light"
     },
     "output_type": "display_data"
    },
    {
     "data": {
      "text/plain": [
       "count    1545.000000\n",
       "mean      415.882848\n",
       "std       215.536023\n",
       "min         0.000000\n",
       "25%       266.000000\n",
       "50%       418.000000\n",
       "75%       565.000000\n",
       "max      1029.000000\n",
       "Name: minutes_used, dtype: float64"
      ]
     },
     "execution_count": 60,
     "metadata": {},
     "output_type": "execute_result"
    }
   ],
   "source": [
    "#Histogram for Surf minutes_used\n",
    "overall_revenue_surf_minutes_used_clean['minutes_used'].hist(bins=20, range=(0,1100), label='minutes_used')\n",
    "plt.suptitle('Surf Calls')\n",
    "plt.xlabel('minutes_used')\n",
    "plt.ylabel('count           ', rotation=0)\n",
    "plt.show()\n",
    "overall_revenue_surf_minutes_used_clean['minutes_used'].describe()"
   ]
  },
  {
   "cell_type": "code",
   "execution_count": 61,
   "metadata": {},
   "outputs": [
    {
     "data": {
      "text/plain": [
       "46425.708605481836"
      ]
     },
     "execution_count": 61,
     "metadata": {},
     "output_type": "execute_result"
    }
   ],
   "source": [
    "np.var(overall_revenue_surf_minutes_used_clean['minutes_used'])"
   ]
  },
  {
   "cell_type": "code",
   "execution_count": 62,
   "metadata": {},
   "outputs": [
    {
     "data": {
      "image/png": "[encoded data removed]",
      "text/plain": [
       "<Figure size 432x288 with 1 Axes>"
      ]
     },
     "metadata": {
      "needs_background": "light"
     },
     "output_type": "display_data"
    },
    {
     "data": {
      "text/plain": [
       "count     704.000000\n",
       "mean      413.512784\n",
       "std       214.560200\n",
       "min         0.000000\n",
       "25%       257.500000\n",
       "50%       419.500000\n",
       "75%       548.500000\n",
       "max      1020.000000\n",
       "Name: minutes_used, dtype: float64"
      ]
     },
     "execution_count": 62,
     "metadata": {},
     "output_type": "execute_result"
    }
   ],
   "source": [
    "#Histogram for Ultimate minutes_used\n",
    "overall_revenue_ultimate_minutes_used_clean['minutes_used'].hist(bins=20, range=(0,1100))\n",
    "plt.suptitle('Ultimate Calls')\n",
    "plt.xlabel('minutes_used')\n",
    "plt.ylabel('count           ', rotation=0)\n",
    "plt.show()\n",
    "overall_revenue_ultimate_minutes_used_clean['minutes_used'].describe()"
   ]
  },
  {
   "cell_type": "code",
   "execution_count": 63,
   "metadata": {},
   "outputs": [
    {
     "data": {
      "text/plain": [
       "45970.68733656704"
      ]
     },
     "execution_count": 63,
     "metadata": {},
     "output_type": "execute_result"
    }
   ],
   "source": [
    "np.var(overall_revenue_ultimate_minutes_used_clean['minutes_used'])"
   ]
  },
  {
   "cell_type": "markdown",
   "metadata": {},
   "source": [
    "The distributions for minutes_used for both plans are similar.\n",
    "\n",
    "The variance for both plans is almost the same.\n",
    "\n",
    "The mean is only 2 minutes smaller for Ultimate; not a drastric difference.\n",
    "\n",
    "The quartiles are very similar with no more than the 27 minute difference found in the 3rd quartile.\n",
    "\n",
    "Note that more than 25% of Surf users use more than the 500 minute plan limit. Very rarely does any Ultimate user surpass the 1000 minute plan limit.\n"
   ]
  },
  {
   "cell_type": "markdown",
   "metadata": {},
   "source": [
    "<h6><center>Messages_sent</center></h6>"
   ]
  },
  {
   "cell_type": "code",
   "execution_count": 64,
   "metadata": {},
   "outputs": [
    {
     "name": "stdout",
     "output_type": "stream",
     "text": [
      "Surf messages_sent upper limit: -63.0\n",
      "Surf Messages_sent upper limit: 113.0\n"
     ]
    }
   ],
   "source": [
    "#Figuring out messages_sent upper limit for Surf\n",
    "Q1 = overall_revenue_surf['messages_sent'].quantile(0.25)\n",
    "Q3 = overall_revenue_surf['messages_sent'].quantile(0.75)\n",
    "IQR = Q3 - Q1\n",
    "messages_sent_lower_outliers = Q1-1.5*IQR\n",
    "messages_sent_upper_outliers = Q3+1.5*IQR\n",
    "print('Surf messages_sent upper limit:', messages_sent_lower_outliers)\n",
    "print('Surf Messages_sent upper limit:', messages_sent_upper_outliers)"
   ]
  },
  {
   "cell_type": "code",
   "execution_count": 65,
   "metadata": {},
   "outputs": [
    {
     "name": "stdout",
     "output_type": "stream",
     "text": [
      "Ultimate messages_sent upper limit: -74.0\n",
      "Ultimate Messages_sent upper limit: 142.0\n"
     ]
    }
   ],
   "source": [
    "#Figuring out messages_sent upper limit for Ultimate\n",
    "Q1 = overall_revenue_ultimate['messages_sent'].quantile(0.25)\n",
    "Q3 = overall_revenue_ultimate['messages_sent'].quantile(0.75)\n",
    "IQR = Q3 - Q1\n",
    "messages_sent_lower_outliers = Q1-1.5*IQR\n",
    "messages_sent_upper_outliers = Q3+1.5*IQR\n",
    "print('Ultimate messages_sent upper limit:', messages_sent_lower_outliers)\n",
    "print('Ultimate Messages_sent upper limit:', messages_sent_upper_outliers)"
   ]
  },
  {
   "cell_type": "code",
   "execution_count": 66,
   "metadata": {},
   "outputs": [],
   "source": [
    "#Removing outliers\n",
    "overall_revenue_surf_messages_sent_clean = overall_revenue_surf.query('messages_sent <= 113.0')\n",
    "overall_revenue_ultimate_messages_sent_clean = overall_revenue_ultimate.query('messages_sent <= 142.0')"
   ]
  },
  {
   "cell_type": "code",
   "execution_count": 67,
   "metadata": {},
   "outputs": [
    {
     "data": {
      "image/png": "[encoded data removed]",
      "text/plain": [
       "<Figure size 432x288 with 1 Axes>"
      ]
     },
     "metadata": {
      "needs_background": "light"
     },
     "output_type": "display_data"
    },
    {
     "data": {
      "text/plain": [
       "count    1522.000000\n",
       "mean       27.473062\n",
       "std        26.865572\n",
       "min         0.000000\n",
       "25%         2.000000\n",
       "50%        23.000000\n",
       "75%        43.000000\n",
       "max       112.000000\n",
       "Name: messages_sent, dtype: float64"
      ]
     },
     "execution_count": 67,
     "metadata": {},
     "output_type": "execute_result"
    }
   ],
   "source": [
    "#Histogram for Surf messages_sent\n",
    "overall_revenue_surf_messages_sent_clean['messages_sent'].hist(bins=20, range=(0,140))\n",
    "plt.suptitle('Surf Messages')\n",
    "plt.xlabel('messages_sent')\n",
    "plt.ylabel('count           ', rotation=0)\n",
    "plt.show()\n",
    "overall_revenue_surf_messages_sent_clean['messages_sent'].describe()"
   ]
  },
  {
   "cell_type": "code",
   "execution_count": 68,
   "metadata": {},
   "outputs": [
    {
     "data": {
      "text/plain": [
       "721.2847539633349"
      ]
     },
     "execution_count": 68,
     "metadata": {},
     "output_type": "execute_result"
    }
   ],
   "source": [
    "np.var(overall_revenue_surf_messages_sent_clean['messages_sent'])"
   ]
  },
  {
   "cell_type": "code",
   "execution_count": 69,
   "metadata": {},
   "outputs": [
    {
     "data": {
      "image/png": "[encoded data removed]",
      "text/plain": [
       "<Figure size 432x288 with 1 Axes>"
      ]
     },
     "metadata": {
      "needs_background": "light"
     },
     "output_type": "display_data"
    },
    {
     "data": {
      "text/plain": [
       "count    710.000000\n",
       "mean      35.947887\n",
       "std       32.248355\n",
       "min        0.000000\n",
       "25%        6.250000\n",
       "50%       30.000000\n",
       "75%       59.000000\n",
       "max      139.000000\n",
       "Name: messages_sent, dtype: float64"
      ]
     },
     "execution_count": 69,
     "metadata": {},
     "output_type": "execute_result"
    }
   ],
   "source": [
    "#Histogram for Ultimate messages_sent\n",
    "overall_revenue_ultimate_messages_sent_clean['messages_sent'].hist(bins=20, range=(0,140))\n",
    "plt.suptitle('Ultimate Messages')\n",
    "plt.xlabel('messages_sent')\n",
    "plt.ylabel('count           ', rotation=0)\n",
    "plt.show()\n",
    "overall_revenue_ultimate_messages_sent_clean['messages_sent'].describe()"
   ]
  },
  {
   "cell_type": "code",
   "execution_count": 70,
   "metadata": {},
   "outputs": [
    {
     "data": {
      "text/plain": [
       "1038.4916504661821"
      ]
     },
     "execution_count": 70,
     "metadata": {},
     "output_type": "execute_result"
    }
   ],
   "source": [
    "np.var(overall_revenue_ultimate_messages_sent_clean['messages_sent'])"
   ]
  },
  {
   "cell_type": "markdown",
   "metadata": {},
   "source": [
    "The standard deviation and variance for Ultimate are larger.\n",
    "\n",
    "The interquartile range for Ultimate is larger as well. This means that the typical Surf user does indeed send substantially less messages than the typical Ultimate user.\n",
    "\n",
    "A little less than 25% of Surf users send more than the 50 messages limit.\n",
    "There are no Ultimate users that get close to the 1000 messages limit; max is 139."
   ]
  },
  {
   "cell_type": "markdown",
   "metadata": {},
   "source": [
    "<h6><center>Gb_used</center></h6>"
   ]
  },
  {
   "cell_type": "code",
   "execution_count": 71,
   "metadata": {},
   "outputs": [
    {
     "name": "stdout",
     "output_type": "stream",
     "text": [
      "Price upper limit: -1.5\n",
      "Price upper limit: 34.5\n"
     ]
    }
   ],
   "source": [
    "#Figuring out gb_used upper limit for Surf\n",
    "Q1 = overall_revenue_surf['gb_used'].quantile(0.25)\n",
    "Q3 = overall_revenue_surf['gb_used'].quantile(0.75)\n",
    "IQR = Q3 - Q1\n",
    "gb_used_lower_outliers = Q1-1.5*IQR\n",
    "gb_used_upper_outliers = Q3+1.5*IQR\n",
    "print('Price upper limit:', gb_used_lower_outliers)\n",
    "print('Price upper limit:', gb_used_upper_outliers)"
   ]
  },
  {
   "cell_type": "code",
   "execution_count": 72,
   "metadata": {},
   "outputs": [
    {
     "name": "stdout",
     "output_type": "stream",
     "text": [
      "Price upper limit: 1.0\n",
      "Price upper limit: 33.0\n"
     ]
    }
   ],
   "source": [
    "#Figuring out gb_used upper limit for Ultimate\n",
    "Q1 = overall_revenue_ultimate['gb_used'].quantile(0.25)\n",
    "Q3 = overall_revenue_ultimate['gb_used'].quantile(0.75)\n",
    "IQR = Q3 - Q1\n",
    "gb_used_lower_outliers = Q1-1.5*IQR\n",
    "gb_used_upper_outliers = Q3+1.5*IQR\n",
    "print('Price upper limit:', gb_used_lower_outliers)\n",
    "print('Price upper limit:', gb_used_upper_outliers)"
   ]
  },
  {
   "cell_type": "code",
   "execution_count": 73,
   "metadata": {},
   "outputs": [],
   "source": [
    "#Removing outliers\n",
    "overall_revenue_surf_gb_used_clean = overall_revenue_surf.query('gb_used <= 34.5')\n",
    "overall_revenue_ultimate_gb_used_clean = overall_revenue_ultimate.query('gb_used <= 33.0')"
   ]
  },
  {
   "cell_type": "code",
   "execution_count": 74,
   "metadata": {},
   "outputs": [
    {
     "data": {
      "image/png": "[encoded data removed]",
      "text/plain": [
       "<Figure size 432x288 with 1 Axes>"
      ]
     },
     "metadata": {
      "needs_background": "light"
     },
     "output_type": "display_data"
    },
    {
     "data": {
      "text/plain": [
       "count    1539.000000\n",
       "mean       16.121507\n",
       "std         6.957435\n",
       "min         0.000000\n",
       "25%        12.000000\n",
       "50%        17.000000\n",
       "75%        21.000000\n",
       "max        34.000000\n",
       "Name: gb_used, dtype: float64"
      ]
     },
     "execution_count": 74,
     "metadata": {},
     "output_type": "execute_result"
    }
   ],
   "source": [
    "#Histogram for Surf messages_sent\n",
    "overall_revenue_surf_gb_used_clean['gb_used'].hist(bins=15, range=(0,35))\n",
    "plt.suptitle('Surf Internet')\n",
    "plt.xlabel('gb_used')\n",
    "plt.ylabel('count           ', rotation=0)\n",
    "plt.show()\n",
    "overall_revenue_surf_gb_used_clean['gb_used'].describe()"
   ]
  },
  {
   "cell_type": "code",
   "execution_count": 75,
   "metadata": {},
   "outputs": [
    {
     "data": {
      "text/plain": [
       "48.37444970933344"
      ]
     },
     "execution_count": 75,
     "metadata": {},
     "output_type": "execute_result"
    }
   ],
   "source": [
    "np.var(overall_revenue_surf_gb_used_clean['gb_used'])"
   ]
  },
  {
   "cell_type": "code",
   "execution_count": 76,
   "metadata": {},
   "outputs": [
    {
     "data": {
      "image/png": "[encoded data removed]",
      "text/plain": [
       "<Figure size 432x288 with 1 Axes>"
      ]
     },
     "metadata": {
      "needs_background": "light"
     },
     "output_type": "display_data"
    },
    {
     "data": {
      "text/plain": [
       "count    694.000000\n",
       "mean      16.515850\n",
       "std        6.638395\n",
       "min        0.000000\n",
       "25%       13.000000\n",
       "50%       17.000000\n",
       "75%       20.000000\n",
       "max       33.000000\n",
       "Name: gb_used, dtype: float64"
      ]
     },
     "execution_count": 76,
     "metadata": {},
     "output_type": "execute_result"
    }
   ],
   "source": [
    "#Histogram for Ultimate messages_sent\n",
    "overall_revenue_ultimate_gb_used_clean['gb_used'].hist(bins=15, range=(0,35))\n",
    "plt.suptitle('Ultimate Internet')\n",
    "plt.xlabel('gb_used')\n",
    "plt.ylabel('count           ', rotation=0)\n",
    "plt.show()\n",
    "overall_revenue_ultimate_gb_used_clean['gb_used'].describe()"
   ]
  },
  {
   "cell_type": "code",
   "execution_count": 77,
   "metadata": {},
   "outputs": [
    {
     "data": {
      "text/plain": [
       "44.00479200059782"
      ]
     },
     "execution_count": 77,
     "metadata": {},
     "output_type": "execute_result"
    }
   ],
   "source": [
    "np.var(overall_revenue_ultimate_gb_used_clean['gb_used'])"
   ]
  },
  {
   "cell_type": "markdown",
   "metadata": {},
   "source": [
    "Both histograms have almost equal quartiles and a very similar standard deviation and variance. Surf's standard deviation and variance are bigger. Moreover, the mean for Ultimate is less than 0.5gb larger. Customer behavior for both plans is virtually identical.\n",
    "\n",
    "Customers on both plans seem to consume on average around 17gb per month. Note that Surf includes 15gb of internet and Ultimate includes 30gb. Surf customers usually consume more than the plan's included internet, and Ultimate customers rarely ever surpass the 30gb limit."
   ]
  },
  {
   "cell_type": "markdown",
   "metadata": {},
   "source": [
    "<a id='4heading'></a>"
   ]
  },
  {
   "cell_type": "markdown",
   "metadata": {},
   "source": [
    "## Testing hypotheses\n"
   ]
  },
  {
   "cell_type": "markdown",
   "metadata": {},
   "source": [
    "<a id='4.1heading'></a>"
   ]
  },
  {
   "cell_type": "markdown",
   "metadata": {},
   "source": [
    "### The average revenue from users of Ultimate and Surf calling plans differs"
   ]
  },
  {
   "cell_type": "code",
   "execution_count": 78,
   "metadata": {},
   "outputs": [
    {
     "name": "stdout",
     "output_type": "stream",
     "text": [
      "Surf total revenue mean: 60.57290527654157\n",
      "Ultimate total revenue mean: 72.29444444444445\n"
     ]
    }
   ],
   "source": [
    "print('Surf total revenue mean:', overall_revenue_surf['total_revenue'].mean())\n",
    "print('Ultimate total revenue mean:', overall_revenue_ultimate['total_revenue'].mean())"
   ]
  },
  {
   "cell_type": "markdown",
   "metadata": {},
   "source": [
    "<ins>Experiment<ins/>\n",
    "\n",
    "Null Hypothesis H0: Average revenue from users of Ultimate and Surf plans is the same\n",
    "    \n",
    "Alternative Hypothesis H1: Average revenue from users of Ultimate and Surf plans differs"
   ]
  },
  {
   "cell_type": "code",
   "execution_count": 79,
   "metadata": {},
   "outputs": [
    {
     "name": "stdout",
     "output_type": "stream",
     "text": [
      "p-value: 1.4423080832743438e-15\n",
      "We reject the null hypothesis\n"
     ]
    }
   ],
   "source": [
    "#Experiment\n",
    "\n",
    "alpha = 0.05 #set a critical statistical significance level\n",
    "\n",
    "results = st.ttest_ind(overall_revenue_surf['total_revenue'], overall_revenue_ultimate['total_revenue'], equal_var = False) # test the hypothesis that the means of the two independent populations are equal\n",
    "\n",
    "print('p-value:', results.pvalue) #print the p-value\n",
    "\n",
    "if results.pvalue < alpha:\n",
    "    print(\"We reject the null hypothesis\")\n",
    "else:\n",
    "    print(\"We can't reject the null hypothesis\")"
   ]
  },
  {
   "cell_type": "markdown",
   "metadata": {},
   "source": [
    "We've used the Hypothesis on the Equality of Two Population Means because we need to compare the means of two different statistical populations.\n",
    "\n",
    "Our analysis suggests that revenue from users of Ultimate and Surf calling plans does differ because the p-value is such a miniscule amount lower than our 0.05 significance level.\n",
    "\n",
    "We set the significance level at 0.05 because that level indicates a 5% risk of concluding that a difference exists when there is no actual difference. This level has been traditionally used in statistics. Additionally, we've set equal_var as False because the variances of both columns are not equal to each other."
   ]
  },
  {
   "cell_type": "markdown",
   "metadata": {},
   "source": [
    "<a id='4.2heading'></a>"
   ]
  },
  {
   "cell_type": "markdown",
   "metadata": {},
   "source": [
    "### The average revenue from users in NY-NJ area is different from that of the users from other regions"
   ]
  },
  {
   "cell_type": "code",
   "execution_count": 80,
   "metadata": {},
   "outputs": [
    {
     "name": "stderr",
     "output_type": "stream",
     "text": [
      "/Users/AntonioKuri/opt/anaconda3/lib/python3.8/site-packages/pandas/core/strings.py:2001: UserWarning: This pattern has match groups. To actually get the groups, use str.extract.\n",
      "  return func(self, *args, **kwargs)\n"
     ]
    },
    {
     "data": {
      "text/plain": [
       "New York-Newark-Jersey City, NY-NJ-PA MSA          377\n",
       "Philadelphia-Camden-Wilmington, PA-NJ-DE-MD MSA     82\n",
       "San Jose-Sunnyvale-Santa Clara, CA MSA              31\n",
       "Rochester, NY MSA                                   15\n",
       "Buffalo-Cheektowaga, NY MSA                          9\n",
       "Albany-Schenectady-Troy, NY MSA                      5\n",
       "Name: city, dtype: int64"
      ]
     },
     "execution_count": 80,
     "metadata": {},
     "output_type": "execute_result"
    }
   ],
   "source": [
    "#Getting dataframe with NY-NJ area users\n",
    "overall_revenue_NYNJ = overall_revenue[overall_revenue['city'].str.contains(pat='(ny)|(nj)', case=False)]\n",
    "overall_revenue_NYNJ['city'].value_counts()"
   ]
  },
  {
   "cell_type": "code",
   "execution_count": 81,
   "metadata": {},
   "outputs": [
    {
     "data": {
      "text/plain": [
       "New York-Newark-Jersey City, NY-NJ-PA MSA          377\n",
       "Philadelphia-Camden-Wilmington, PA-NJ-DE-MD MSA     82\n",
       "Rochester, NY MSA                                   15\n",
       "Buffalo-Cheektowaga, NY MSA                          9\n",
       "Albany-Schenectady-Troy, NY MSA                      5\n",
       "Name: city, dtype: int64"
      ]
     },
     "execution_count": 81,
     "metadata": {},
     "output_type": "execute_result"
    }
   ],
   "source": [
    "#Removing CA city\n",
    "overall_revenue_NYNJ = overall_revenue_NYNJ.query('city != \"San Jose-Sunnyvale-Santa Clara, CA MSA\"')\n",
    "overall_revenue_NYNJ['city'].value_counts()"
   ]
  },
  {
   "cell_type": "code",
   "execution_count": 82,
   "metadata": {},
   "outputs": [],
   "source": [
    "#Getting dataframe without NY-NJ area users\n",
    "overall_revenue_other = overall_revenue.query('city not in (\"New York-Newark-Jersey City, NY-NJ-PA MSA\", \"Philadelphia-Camden-Wilmington, PA-NJ-DE-MD MSA\", \"Buffalo-Cheektowaga, NY MSA\", \"Rochester, NY MSA\", \"Albany-Schenectady-Troy, NY MSA\")')"
   ]
  },
  {
   "cell_type": "code",
   "execution_count": 83,
   "metadata": {},
   "outputs": [
    {
     "name": "stdout",
     "output_type": "stream",
     "text": [
      "Surf total revenue mean: 61.24254098360657\n",
      "Ultimate total revenue mean: 65.06749030470911\n"
     ]
    }
   ],
   "source": [
    "print('Surf total revenue mean:', overall_revenue_NYNJ['total_revenue'].mean())\n",
    "print('Ultimate total revenue mean:', overall_revenue_other['total_revenue'].mean())"
   ]
  },
  {
   "cell_type": "markdown",
   "metadata": {},
   "source": [
    "<ins>Experiment<ins/>\n",
    "\n",
    "Null Hypothesis H0: Average revenue from users in NY-NJ is the same from that of the users from other regions\n",
    "    \n",
    "Alternative Hypothesis H1: Average revenue from users in NY-NJ is different from that of the users from other regions"
   ]
  },
  {
   "cell_type": "code",
   "execution_count": 84,
   "metadata": {},
   "outputs": [
    {
     "name": "stdout",
     "output_type": "stream",
     "text": [
      "p-value: 0.1035007419789405\n",
      "We can't reject the null hypothesis\n"
     ]
    }
   ],
   "source": [
    "#Experiment\n",
    "\n",
    "alpha = 0.05 #set a critical statistical significance level\n",
    "\n",
    "results = st.ttest_ind(overall_revenue_NYNJ['total_revenue'], overall_revenue_other['total_revenue'], equal_var = False) #test the hypothesis that the means of the two independent populations are equal\n",
    "\n",
    "print('p-value:', results.pvalue) #print the p-value\n",
    "\n",
    "if results.pvalue < alpha:\n",
    "    print(\"We reject the null hypothesis\")\n",
    "else:\n",
    "    print(\"We can't reject the null hypothesis\")"
   ]
  },
  {
   "cell_type": "markdown",
   "metadata": {},
   "source": [
    "We've used the Hypothesis on the Equality of Two Population Means because we need to compare the means of two different statistical populations.\n",
    "\n",
    "Our analysis suggests that revenue from users of the NY-NJ is the same from other regions because the p-value is larger than our 0.05 significance level.\n",
    "\n",
    "We set the significance level at 0.05 because that level indicates a 5% risk of concluding that a difference exists when there is no actual difference. This level has been traditionally used in statistics. Additionally, we've set equal_var as False because the variances of both columns are not equal to each other."
   ]
  },
  {
   "cell_type": "markdown",
   "metadata": {},
   "source": [
    "<a id='5heading'></a>"
   ]
  },
  {
   "cell_type": "markdown",
   "metadata": {},
   "source": [
    "## Overall conclusion"
   ]
  },
  {
   "cell_type": "markdown",
   "metadata": {},
   "source": [
    "We got our monthly total revenue per customer by first itemizing every month a user held a Megaline plan, and determining how many minutes, messages, and gigabytes they consumed per month. We then established the overuse of minutes, messages, and gigabytes, and mulitplied them by the overuse rates depending on the plan. Finally, we aggregated the overuse revenue and added it by the monthly plan price to get calculate every customer's monthly revenue.\n",
    "\n",
    "We examined the distributions for monthly minutes used, messages sent, and gigabytes used and concluded that Surf users tend to overuse their plan limits on the three categories. However, Ultimate users don't tend to pass their limit on any category; Ultimate users rarely ever used 10% or more of their messages limit. Ultimate users did tend to use more of the three categories, but not by a drastic difference compared to Surf users. Internet usage was virtually identical for both plans.\n",
    "\n",
    "We can conclude from the extensive analysis done that the Ultimate plan brings in more revenue to Megaline than the Surf plan. Ultimate brings in an average revenue of 72 dollars per customer while Surf brings in an average of 60 dollars per customer.\n",
    "\n",
    "We've seen from our experiments in step 4.1 that the difference in average revenue per customer between both plans is most likely not due to random chance. The analysis suggests that the plans' different offerings are what leads to the difference in revenue, because we assume that customers choose their Megaline plan based on the behaviors they assume they'll undertake (e.g. how many minutes they call, how many messages they send, etc.). Our analysis in step 4.2 suggests that revenue from users of the NY-NJ is the same from other regions."
   ]
  }
 ],
 "metadata": {
  "kernelspec": {
   "display_name": "Python 3",
   "language": "python",
   "name": "python3"
  },
  "language_info": {
   "codemirror_mode": {
    "name": "ipython",
    "version": 3
   },
   "file_extension": ".py",
   "mimetype": "text/x-python",
   "name": "python",
   "nbconvert_exporter": "python",
   "pygments_lexer": "ipython3",
   "version": "3.8.5"
  },
  "toc": {
   "base_numbering": 1,
   "nav_menu": {},
   "number_sections": true,
   "sideBar": true,
   "skip_h1_title": true,
   "title_cell": "Table of Contents",
   "title_sidebar": "Contents",
   "toc_cell": false,
   "toc_position": {},
   "toc_section_display": true,
   "toc_window_display": false
  }
 },
 "nbformat": 4,
 "nbformat_minor": 2
}
